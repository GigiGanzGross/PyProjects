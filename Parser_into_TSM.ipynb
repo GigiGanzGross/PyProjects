{
 "cells": [
  {
   "cell_type": "code",
   "execution_count": 1,
   "id": "345ec4be",
   "metadata": {},
   "outputs": [],
   "source": [
    "# Import Libraries \n",
    "import hakom\n",
    "import json\n",
    "import matplotlib.pyplot as plt\n",
    "%matplotlib inline\n",
    "import numpy as np\n",
    "import getpass\n",
    "import urllib.request, json \n",
    "import pandas as pd\n",
    "from datetime import datetime, timedelta\n",
    "#teständerung"
   ]
  },
  {
   "cell_type": "markdown",
   "id": "13ddf7e4",
   "metadata": {},
   "source": [
    "## Initializing HAKOM TSM Connector"
   ]
  },
  {
   "cell_type": "code",
   "execution_count": 2,
   "id": "1ac92be5",
   "metadata": {},
   "outputs": [],
   "source": [
    "api_pwd = getpass.getpass()"
   ]
  },
  {
   "cell_type": "code",
   "execution_count": 3,
   "metadata": {},
   "outputs": [],
   "source": [
    "auth_params = hakom.authorization.AuthParams(\n",
    "    username = 'aeneas',\n",
    "    password = api_pwd,\n",
    ")\n",
    "\n",
    "service_config = hakom.service.ServiceConfig(\n",
    "    base_url=\"https://fehostedwebapp.azurewebsites.net/MAIN/api/\",\n",
    "    auth_params=auth_params,\n",
    "    repository='ZAMS'\n",
    ")\n",
    "\n",
    "hakom.initialize(service_config)"
   ]
  },
  {
   "cell_type": "code",
   "execution_count": 4,
   "id": "460229b4",
   "metadata": {},
   "outputs": [
    {
     "data": {
      "text/plain": [
       "{'Name': 'HAKOM WebTSM Services',\n",
       " 'Description': 'Time Series Management Webservices',\n",
       " 'Version': '3.9.2.1-rc+0'}"
      ]
     },
     "execution_count": 4,
     "metadata": {},
     "output_type": "execute_result"
    }
   ],
   "source": [
    "hakom.get_config().check_health()\n",
    "hakom.versioninfo.get()"
   ]
  },
  {
   "cell_type": "markdown",
   "id": "6d19b940",
   "metadata": {},
   "source": [
    "Check if really logged in"
   ]
  },
  {
   "cell_type": "code",
   "execution_count": 5,
   "id": "6c1439b4",
   "metadata": {},
   "outputs": [
    {
     "data": {
      "text/html": [
       "<div>\n",
       "<style scoped>\n",
       "    .dataframe tbody tr th:only-of-type {\n",
       "        vertical-align: middle;\n",
       "    }\n",
       "\n",
       "    .dataframe tbody tr th {\n",
       "        vertical-align: top;\n",
       "    }\n",
       "\n",
       "    .dataframe thead th {\n",
       "        text-align: right;\n",
       "    }\n",
       "</style>\n",
       "<table border=\"1\" class=\"dataframe\">\n",
       "  <thead>\n",
       "    <tr style=\"text-align: right;\">\n",
       "      <th></th>\n",
       "      <th>ID</th>\n",
       "      <th>Name</th>\n",
       "      <th>Factor</th>\n",
       "      <th>Offset</th>\n",
       "      <th>BaseUnit</th>\n",
       "      <th>Aggregation</th>\n",
       "      <th>IntegralUnit</th>\n",
       "      <th>Description</th>\n",
       "      <th>Category</th>\n",
       "    </tr>\n",
       "  </thead>\n",
       "  <tbody>\n",
       "    <tr>\n",
       "      <th>0</th>\n",
       "      <td>1</td>\n",
       "      <td>W</td>\n",
       "      <td>1.0</td>\n",
       "      <td>0.0</td>\n",
       "      <td></td>\n",
       "      <td>AVG</td>\n",
       "      <td>Wh</td>\n",
       "      <td>None</td>\n",
       "      <td>None</td>\n",
       "    </tr>\n",
       "    <tr>\n",
       "      <th>1</th>\n",
       "      <td>2</td>\n",
       "      <td>kW</td>\n",
       "      <td>1000.0</td>\n",
       "      <td>0.0</td>\n",
       "      <td>W</td>\n",
       "      <td>AVG</td>\n",
       "      <td>kWh</td>\n",
       "      <td>None</td>\n",
       "      <td>None</td>\n",
       "    </tr>\n",
       "    <tr>\n",
       "      <th>2</th>\n",
       "      <td>3</td>\n",
       "      <td>kWh/h</td>\n",
       "      <td>1000.0</td>\n",
       "      <td>0.0</td>\n",
       "      <td>W</td>\n",
       "      <td>AVG</td>\n",
       "      <td>kWh</td>\n",
       "      <td>None</td>\n",
       "      <td>None</td>\n",
       "    </tr>\n",
       "    <tr>\n",
       "      <th>3</th>\n",
       "      <td>4</td>\n",
       "      <td>MW</td>\n",
       "      <td>1000000.0</td>\n",
       "      <td>0.0</td>\n",
       "      <td>W</td>\n",
       "      <td>AVG</td>\n",
       "      <td>MWh</td>\n",
       "      <td>None</td>\n",
       "      <td>None</td>\n",
       "    </tr>\n",
       "    <tr>\n",
       "      <th>4</th>\n",
       "      <td>5</td>\n",
       "      <td>MWh/h</td>\n",
       "      <td>1000000.0</td>\n",
       "      <td>0.0</td>\n",
       "      <td>W</td>\n",
       "      <td>AVG</td>\n",
       "      <td>MWh</td>\n",
       "      <td>None</td>\n",
       "      <td>None</td>\n",
       "    </tr>\n",
       "  </tbody>\n",
       "</table>\n",
       "</div>"
      ],
      "text/plain": [
       "   ID   Name     Factor  Offset BaseUnit Aggregation IntegralUnit Description  \\\n",
       "0   1      W        1.0     0.0                  AVG           Wh        None   \n",
       "1   2     kW     1000.0     0.0        W         AVG          kWh        None   \n",
       "2   3  kWh/h     1000.0     0.0        W         AVG          kWh        None   \n",
       "3   4     MW  1000000.0     0.0        W         AVG          MWh        None   \n",
       "4   5  MWh/h  1000000.0     0.0        W         AVG          MWh        None   \n",
       "\n",
       "  Category  \n",
       "0     None  \n",
       "1     None  \n",
       "2     None  \n",
       "3     None  \n",
       "4     None  "
      ]
     },
     "execution_count": 5,
     "metadata": {},
     "output_type": "execute_result"
    }
   ],
   "source": [
    "units = pd.DataFrame.from_records(hakom.repositories.units.find())\n",
    "units.head()"
   ]
  },
  {
   "cell_type": "markdown",
   "id": "4ee10df6",
   "metadata": {},
   "source": [
    "# Parser"
   ]
  },
  {
   "cell_type": "markdown",
   "id": "bbe5ccbc",
   "metadata": {},
   "source": [
    "## Initialising Parameter"
   ]
  },
  {
   "cell_type": "code",
   "execution_count": null,
   "id": "9012fd42",
   "metadata": {},
   "outputs": [],
   "source": [
    "station_str = ['A521', 'A707', 'A652','A002', 'A747', 'A612']\n"
   ]
  },
  {
   "cell_type": "code",
   "execution_count": 43,
   "id": "9e16314f",
   "metadata": {
    "scrolled": false
   },
   "outputs": [
    {
     "name": "stdout",
     "output_type": "stream",
     "text": [
      "https://apitempo.inmet.gov.br/estacao/2018-01-01/2018-12-31/A521\n",
      "https://apitempo.inmet.gov.br/estacao/2019-01-01/2019-12-31/A521\n",
      "https://apitempo.inmet.gov.br/estacao/2020-01-01/2020-12-31/A521\n",
      "https://apitempo.inmet.gov.br/estacao/2021-01-01/2021-12-31/A521\n",
      "https://apitempo.inmet.gov.br/estacao/2022-01-01/2022-12-31/A521\n"
     ]
    }
   ],
   "source": [
    "# Extracting data from INMET API via JSON file\n",
    "\n",
    "# Edit: add list of StationsID \n",
    "# Edit: add error control: if URL is not found\n",
    "data =[]\n",
    "\n",
    "for year in range(2018,2023):\n",
    "\n",
    "   station_str = 'A521'\n",
    "   date_begin = '{}-01-01'.format(year)\n",
    "   date_end = '{}-12-31'.format(year)\n",
    "\n",
    "   url_str = 'https://apitempo.inmet.gov.br/estacao/{}/{}/{}'.format(date_begin, date_end, station_str)\n",
    "   print(url_str)\n",
    "\n",
    "\n",
    "   # Edit: add loop to run over list of selected stations and dates\n",
    "\n",
    "   with urllib.request.urlopen(url_str) as url:\n",
    "      temp = pd.read_json(url.read().decode())\n",
    "   data.append(temp)\n"
   ]
  },
  {
   "cell_type": "code",
   "execution_count": 52,
   "id": "b4682bac",
   "metadata": {},
   "outputs": [],
   "source": [
    "len(data)\n",
    "data[0]\n",
    "df = pd.concat(data)\n",
    "df.head()\n",
    "df.shape\n",
    "data=df"
   ]
  },
  {
   "cell_type": "code",
   "execution_count": 44,
   "id": "42e580c5",
   "metadata": {},
   "outputs": [
    {
     "ename": "AttributeError",
     "evalue": "'list' object has no attribute 'shape'",
     "output_type": "error",
     "traceback": [
      "\u001b[1;31m---------------------------------------------------------------------------\u001b[0m",
      "\u001b[1;31mAttributeError\u001b[0m                            Traceback (most recent call last)",
      "\u001b[1;32mc:\\Users\\Aeneas\\Documents\\GIT\\Playground\\Parser_into_TSM.ipynb Cell 12'\u001b[0m in \u001b[0;36m<cell line: 1>\u001b[1;34m()\u001b[0m\n\u001b[1;32m----> <a href='vscode-notebook-cell:/c%3A/Users/Aeneas/Documents/GIT/Playground/Parser_into_TSM.ipynb#ch0000024?line=0'>1</a>\u001b[0m data\u001b[39m.\u001b[39;49mshape\n",
      "\u001b[1;31mAttributeError\u001b[0m: 'list' object has no attribute 'shape'"
     ]
    }
   ],
   "source": [
    "data.shape"
   ]
  },
  {
   "cell_type": "code",
   "execution_count": 53,
   "id": "ccaac3b8",
   "metadata": {},
   "outputs": [
    {
     "name": "stdout",
     "output_type": "stream",
     "text": [
      "Input data has  43824 entries.\n",
      "Each entry has  27 variables.\n",
      "List of variables: Index(['DC_NOME', 'PRE_INS', 'TEM_SEN', 'VL_LATITUDE', 'PRE_MAX', 'UF',\n",
      "       'RAD_GLO', 'PTO_INS', 'TEM_MIN', 'VL_LONGITUDE', 'UMD_MIN', 'PTO_MAX',\n",
      "       'VEN_DIR', 'DT_MEDICAO', 'CHUVA', 'PRE_MIN', 'UMD_MAX', 'VEN_VEL',\n",
      "       'PTO_MIN', 'TEM_MAX', 'TEN_BAT', 'VEN_RAJ', 'TEM_CPU', 'TEM_INS',\n",
      "       'UMD_INS', 'CD_ESTACAO', 'HR_MEDICAO'],\n",
      "      dtype='object')\n"
     ]
    }
   ],
   "source": [
    "# Verifying data format\n",
    "\n",
    "print('Input data has ', len(data), 'entries.')\n",
    "print('Each entry has ', len(data.iloc[0]), 'variables.')\n",
    "print('List of variables:', data.columns)\n"
   ]
  },
  {
   "cell_type": "code",
   "execution_count": 74,
   "id": "013e304f",
   "metadata": {},
   "outputs": [
    {
     "name": "stdout",
     "output_type": "stream",
     "text": [
      "<class 'pandas.core.frame.DataFrame'>\n",
      "DatetimeIndex: 43824 entries, 2018-01-01 00:00:00 to 2022-12-31 23:00:00\n",
      "Freq: H\n",
      "Data columns (total 27 columns):\n",
      " #   Column        Non-Null Count  Dtype  \n",
      "---  ------        --------------  -----  \n",
      " 0   DC_NOME       43824 non-null  object \n",
      " 1   PRE_INS       38252 non-null  float64\n",
      " 2   TEM_SEN       38252 non-null  float64\n",
      " 3   VL_LATITUDE   43824 non-null  float64\n",
      " 4   PRE_MAX       38244 non-null  float64\n",
      " 5   UF            43824 non-null  object \n",
      " 6   RAD_GLO       38252 non-null  float64\n",
      " 7   PTO_INS       38252 non-null  float64\n",
      " 8   TEM_MIN       38244 non-null  float64\n",
      " 9   VL_LONGITUDE  43824 non-null  float64\n",
      " 10  UMD_MIN       38244 non-null  float64\n",
      " 11  PTO_MAX       38244 non-null  float64\n",
      " 12  VEN_DIR       38252 non-null  float64\n",
      " 13  DT_MEDICAO    43824 non-null  object \n",
      " 14  CHUVA         38252 non-null  float64\n",
      " 15  PRE_MIN       38244 non-null  float64\n",
      " 16  UMD_MAX       38244 non-null  float64\n",
      " 17  VEN_VEL       38252 non-null  float64\n",
      " 18  PTO_MIN       38244 non-null  float64\n",
      " 19  TEM_MAX       38244 non-null  float64\n",
      " 20  TEN_BAT       38252 non-null  float64\n",
      " 21  VEN_RAJ       38244 non-null  float64\n",
      " 22  TEM_CPU       38252 non-null  float64\n",
      " 23  TEM_INS       38252 non-null  float64\n",
      " 24  UMD_INS       38252 non-null  float64\n",
      " 25  CD_ESTACAO    43824 non-null  object \n",
      " 26  HR_MEDICAO    43824 non-null  int64  \n",
      "dtypes: float64(22), int64(1), object(4)\n",
      "memory usage: 9.4+ MB\n"
     ]
    }
   ],
   "source": [
    "data['timestamp'] = pd.to_datetime(data['DT_MEDICAO']) + pd.to_timedelta(data['HR_MEDICAO'] // 100, unit='h')\n",
    "data = data.set_index('timestamp')\n",
    "data = data.asfreq('h')\n",
    "data.info()"
   ]
  },
  {
   "cell_type": "code",
   "execution_count": 76,
   "id": "d38d4a1c",
   "metadata": {},
   "outputs": [
    {
     "data": {
      "text/html": [
       "<div>\n",
       "<style scoped>\n",
       "    .dataframe tbody tr th:only-of-type {\n",
       "        vertical-align: middle;\n",
       "    }\n",
       "\n",
       "    .dataframe tbody tr th {\n",
       "        vertical-align: top;\n",
       "    }\n",
       "\n",
       "    .dataframe thead th {\n",
       "        text-align: right;\n",
       "    }\n",
       "</style>\n",
       "<table border=\"1\" class=\"dataframe\">\n",
       "  <thead>\n",
       "    <tr style=\"text-align: right;\">\n",
       "      <th></th>\n",
       "      <th>DC_NOME</th>\n",
       "      <th>PRE_INS</th>\n",
       "      <th>TEM_SEN</th>\n",
       "      <th>VL_LATITUDE</th>\n",
       "      <th>PRE_MAX</th>\n",
       "      <th>UF</th>\n",
       "      <th>RAD_GLO</th>\n",
       "      <th>PTO_INS</th>\n",
       "      <th>TEM_MIN</th>\n",
       "      <th>VL_LONGITUDE</th>\n",
       "      <th>...</th>\n",
       "      <th>VEN_VEL</th>\n",
       "      <th>PTO_MIN</th>\n",
       "      <th>TEM_MAX</th>\n",
       "      <th>TEN_BAT</th>\n",
       "      <th>VEN_RAJ</th>\n",
       "      <th>TEM_CPU</th>\n",
       "      <th>TEM_INS</th>\n",
       "      <th>UMD_INS</th>\n",
       "      <th>CD_ESTACAO</th>\n",
       "      <th>HR_MEDICAO</th>\n",
       "    </tr>\n",
       "    <tr>\n",
       "      <th>timestamp</th>\n",
       "      <th></th>\n",
       "      <th></th>\n",
       "      <th></th>\n",
       "      <th></th>\n",
       "      <th></th>\n",
       "      <th></th>\n",
       "      <th></th>\n",
       "      <th></th>\n",
       "      <th></th>\n",
       "      <th></th>\n",
       "      <th></th>\n",
       "      <th></th>\n",
       "      <th></th>\n",
       "      <th></th>\n",
       "      <th></th>\n",
       "      <th></th>\n",
       "      <th></th>\n",
       "      <th></th>\n",
       "      <th></th>\n",
       "      <th></th>\n",
       "      <th></th>\n",
       "    </tr>\n",
       "  </thead>\n",
       "  <tbody>\n",
       "    <tr>\n",
       "      <th>2018-01-01 00:00:00</th>\n",
       "      <td>BELO HORIZONTE (PAMPULHA)</td>\n",
       "      <td>918.5</td>\n",
       "      <td>23.4</td>\n",
       "      <td>-19.883889</td>\n",
       "      <td>918.5</td>\n",
       "      <td>MG</td>\n",
       "      <td>-3.2</td>\n",
       "      <td>19.0</td>\n",
       "      <td>21.6</td>\n",
       "      <td>-43.969444</td>\n",
       "      <td>...</td>\n",
       "      <td>0.7</td>\n",
       "      <td>17.0</td>\n",
       "      <td>22.5</td>\n",
       "      <td>12.6</td>\n",
       "      <td>2.3</td>\n",
       "      <td>24.0</td>\n",
       "      <td>21.7</td>\n",
       "      <td>85.0</td>\n",
       "      <td>A521</td>\n",
       "      <td>0</td>\n",
       "    </tr>\n",
       "    <tr>\n",
       "      <th>2018-01-01 01:00:00</th>\n",
       "      <td>BELO HORIZONTE (PAMPULHA)</td>\n",
       "      <td>918.9</td>\n",
       "      <td>23.2</td>\n",
       "      <td>-19.883889</td>\n",
       "      <td>918.9</td>\n",
       "      <td>MG</td>\n",
       "      <td>-3.0</td>\n",
       "      <td>19.4</td>\n",
       "      <td>21.0</td>\n",
       "      <td>-43.969444</td>\n",
       "      <td>...</td>\n",
       "      <td>0.8</td>\n",
       "      <td>18.9</td>\n",
       "      <td>21.7</td>\n",
       "      <td>12.6</td>\n",
       "      <td>2.3</td>\n",
       "      <td>23.0</td>\n",
       "      <td>21.3</td>\n",
       "      <td>89.0</td>\n",
       "      <td>A521</td>\n",
       "      <td>100</td>\n",
       "    </tr>\n",
       "    <tr>\n",
       "      <th>2018-01-01 02:00:00</th>\n",
       "      <td>BELO HORIZONTE (PAMPULHA)</td>\n",
       "      <td>918.8</td>\n",
       "      <td>23.6</td>\n",
       "      <td>-19.883889</td>\n",
       "      <td>919.2</td>\n",
       "      <td>MG</td>\n",
       "      <td>-2.8</td>\n",
       "      <td>19.4</td>\n",
       "      <td>21.2</td>\n",
       "      <td>-43.969444</td>\n",
       "      <td>...</td>\n",
       "      <td>0.6</td>\n",
       "      <td>19.3</td>\n",
       "      <td>21.9</td>\n",
       "      <td>12.6</td>\n",
       "      <td>1.3</td>\n",
       "      <td>23.0</td>\n",
       "      <td>21.7</td>\n",
       "      <td>87.0</td>\n",
       "      <td>A521</td>\n",
       "      <td>200</td>\n",
       "    </tr>\n",
       "    <tr>\n",
       "      <th>2018-01-01 03:00:00</th>\n",
       "      <td>BELO HORIZONTE (PAMPULHA)</td>\n",
       "      <td>918.4</td>\n",
       "      <td>23.3</td>\n",
       "      <td>-19.883889</td>\n",
       "      <td>918.8</td>\n",
       "      <td>MG</td>\n",
       "      <td>-2.0</td>\n",
       "      <td>19.3</td>\n",
       "      <td>21.2</td>\n",
       "      <td>-43.969444</td>\n",
       "      <td>...</td>\n",
       "      <td>0.3</td>\n",
       "      <td>19.2</td>\n",
       "      <td>21.7</td>\n",
       "      <td>12.6</td>\n",
       "      <td>1.3</td>\n",
       "      <td>23.0</td>\n",
       "      <td>21.2</td>\n",
       "      <td>89.0</td>\n",
       "      <td>A521</td>\n",
       "      <td>300</td>\n",
       "    </tr>\n",
       "    <tr>\n",
       "      <th>2018-01-01 04:00:00</th>\n",
       "      <td>BELO HORIZONTE (PAMPULHA)</td>\n",
       "      <td>917.6</td>\n",
       "      <td>22.9</td>\n",
       "      <td>-19.883889</td>\n",
       "      <td>918.4</td>\n",
       "      <td>MG</td>\n",
       "      <td>-1.2</td>\n",
       "      <td>19.2</td>\n",
       "      <td>20.8</td>\n",
       "      <td>-43.969444</td>\n",
       "      <td>...</td>\n",
       "      <td>0.3</td>\n",
       "      <td>19.2</td>\n",
       "      <td>21.3</td>\n",
       "      <td>12.6</td>\n",
       "      <td>2.0</td>\n",
       "      <td>23.0</td>\n",
       "      <td>20.8</td>\n",
       "      <td>91.0</td>\n",
       "      <td>A521</td>\n",
       "      <td>400</td>\n",
       "    </tr>\n",
       "  </tbody>\n",
       "</table>\n",
       "<p>5 rows × 27 columns</p>\n",
       "</div>"
      ],
      "text/plain": [
       "                                       DC_NOME  PRE_INS  TEM_SEN  VL_LATITUDE  \\\n",
       "timestamp                                                                       \n",
       "2018-01-01 00:00:00  BELO HORIZONTE (PAMPULHA)    918.5     23.4   -19.883889   \n",
       "2018-01-01 01:00:00  BELO HORIZONTE (PAMPULHA)    918.9     23.2   -19.883889   \n",
       "2018-01-01 02:00:00  BELO HORIZONTE (PAMPULHA)    918.8     23.6   -19.883889   \n",
       "2018-01-01 03:00:00  BELO HORIZONTE (PAMPULHA)    918.4     23.3   -19.883889   \n",
       "2018-01-01 04:00:00  BELO HORIZONTE (PAMPULHA)    917.6     22.9   -19.883889   \n",
       "\n",
       "                     PRE_MAX  UF  RAD_GLO  PTO_INS  TEM_MIN  VL_LONGITUDE  \\\n",
       "timestamp                                                                   \n",
       "2018-01-01 00:00:00    918.5  MG     -3.2     19.0     21.6    -43.969444   \n",
       "2018-01-01 01:00:00    918.9  MG     -3.0     19.4     21.0    -43.969444   \n",
       "2018-01-01 02:00:00    919.2  MG     -2.8     19.4     21.2    -43.969444   \n",
       "2018-01-01 03:00:00    918.8  MG     -2.0     19.3     21.2    -43.969444   \n",
       "2018-01-01 04:00:00    918.4  MG     -1.2     19.2     20.8    -43.969444   \n",
       "\n",
       "                     ...  VEN_VEL  PTO_MIN  TEM_MAX TEN_BAT  VEN_RAJ  TEM_CPU  \\\n",
       "timestamp            ...                                                        \n",
       "2018-01-01 00:00:00  ...      0.7     17.0     22.5    12.6      2.3     24.0   \n",
       "2018-01-01 01:00:00  ...      0.8     18.9     21.7    12.6      2.3     23.0   \n",
       "2018-01-01 02:00:00  ...      0.6     19.3     21.9    12.6      1.3     23.0   \n",
       "2018-01-01 03:00:00  ...      0.3     19.2     21.7    12.6      1.3     23.0   \n",
       "2018-01-01 04:00:00  ...      0.3     19.2     21.3    12.6      2.0     23.0   \n",
       "\n",
       "                     TEM_INS  UMD_INS  CD_ESTACAO  HR_MEDICAO  \n",
       "timestamp                                                      \n",
       "2018-01-01 00:00:00     21.7     85.0        A521           0  \n",
       "2018-01-01 01:00:00     21.3     89.0        A521         100  \n",
       "2018-01-01 02:00:00     21.7     87.0        A521         200  \n",
       "2018-01-01 03:00:00     21.2     89.0        A521         300  \n",
       "2018-01-01 04:00:00     20.8     91.0        A521         400  \n",
       "\n",
       "[5 rows x 27 columns]"
      ]
     },
     "execution_count": 76,
     "metadata": {},
     "output_type": "execute_result"
    }
   ],
   "source": [
    "data.head()"
   ]
  },
  {
   "cell_type": "code",
   "execution_count": 64,
   "id": "708ca12a",
   "metadata": {},
   "outputs": [],
   "source": [
    "# Creating the dataframes\n",
    "data.sort_values(by=\"timestamp\", inplace = True)\n",
    "df_temp = data[['timestamp','TEM_INS']]\n",
    "df_wdir = data[['timestamp', 'VEN_DIR']]\n",
    "df_wspeed = data[['timestamp','VEN_VEL']]"
   ]
  },
  {
   "cell_type": "code",
   "execution_count": 65,
   "id": "cafc81b3",
   "metadata": {},
   "outputs": [
    {
     "data": {
      "text/html": [
       "<div>\n",
       "<style scoped>\n",
       "    .dataframe tbody tr th:only-of-type {\n",
       "        vertical-align: middle;\n",
       "    }\n",
       "\n",
       "    .dataframe tbody tr th {\n",
       "        vertical-align: top;\n",
       "    }\n",
       "\n",
       "    .dataframe thead th {\n",
       "        text-align: right;\n",
       "    }\n",
       "</style>\n",
       "<table border=\"1\" class=\"dataframe\">\n",
       "  <thead>\n",
       "    <tr style=\"text-align: right;\">\n",
       "      <th></th>\n",
       "      <th>timestamp</th>\n",
       "      <th>TEM_INS</th>\n",
       "    </tr>\n",
       "  </thead>\n",
       "  <tbody>\n",
       "    <tr>\n",
       "      <th>0</th>\n",
       "      <td>2018-01-01 00:00:00</td>\n",
       "      <td>21.7</td>\n",
       "    </tr>\n",
       "    <tr>\n",
       "      <th>1</th>\n",
       "      <td>2018-01-01 01:00:00</td>\n",
       "      <td>21.3</td>\n",
       "    </tr>\n",
       "    <tr>\n",
       "      <th>2</th>\n",
       "      <td>2018-01-01 02:00:00</td>\n",
       "      <td>21.7</td>\n",
       "    </tr>\n",
       "    <tr>\n",
       "      <th>3</th>\n",
       "      <td>2018-01-01 03:00:00</td>\n",
       "      <td>21.2</td>\n",
       "    </tr>\n",
       "    <tr>\n",
       "      <th>4</th>\n",
       "      <td>2018-01-01 04:00:00</td>\n",
       "      <td>20.8</td>\n",
       "    </tr>\n",
       "  </tbody>\n",
       "</table>\n",
       "</div>"
      ],
      "text/plain": [
       "            timestamp  TEM_INS\n",
       "0 2018-01-01 00:00:00     21.7\n",
       "1 2018-01-01 01:00:00     21.3\n",
       "2 2018-01-01 02:00:00     21.7\n",
       "3 2018-01-01 03:00:00     21.2\n",
       "4 2018-01-01 04:00:00     20.8"
      ]
     },
     "execution_count": 65,
     "metadata": {},
     "output_type": "execute_result"
    }
   ],
   "source": [
    "df_temp.head()"
   ]
  },
  {
   "cell_type": "code",
   "execution_count": 66,
   "id": "71d83c65",
   "metadata": {},
   "outputs": [
    {
     "data": {
      "text/plain": [
       "[TimeSeriesDataItemTimeStamp(From='2018-01-01T00:00:00.000000Z', Value=21.7, Flag=9),\n",
       " TimeSeriesDataItemTimeStamp(From='2018-01-01T01:00:00.000000Z', Value=21.3, Flag=9),\n",
       " TimeSeriesDataItemTimeStamp(From='2018-01-01T02:00:00.000000Z', Value=21.7, Flag=9)]"
      ]
     },
     "execution_count": 66,
     "metadata": {},
     "output_type": "execute_result"
    }
   ],
   "source": [
    "df_test = df_temp.copy()\n",
    "df_test = df_test.set_index('timestamp')\n",
    "df_test = hakom.pandas_interop.create_timestamp_colum_from_index(df_test)\n",
    "df_test['flag'] = 9\n",
    "one_hour_interval = hakom.types.Interval(hakom.types.Intervals.Hour)\n",
    "unit_label = '°C'\n",
    "tsdc = hakom.pandas_interop.to_hakom_tsdata_collection(\n",
    "    df_test.dropna(),\n",
    "    interval=one_hour_interval,\n",
    "    unit=unit_label,\n",
    "    dt_flag_value_order=[2,1,3]\n",
    ")\n",
    "tsdc.Data[:3]"
   ]
  },
  {
   "cell_type": "code",
   "execution_count": 70,
   "id": "639d3405",
   "metadata": {},
   "outputs": [
    {
     "data": {
      "text/plain": [
       "{'ID': 2500,\n",
       " 'Name': 'temperature_test_aeneas',\n",
       " 'Description': '',\n",
       " 'Type': 1,\n",
       " 'Interval': {'Value': 3, 'Multiplier': 1},\n",
       " 'Unit': '°C',\n",
       " 'Table': None,\n",
       " 'ArchiveTable': None,\n",
       " 'Formula': None,\n",
       " 'TimeZone': None,\n",
       " 'StartOfYear': 1,\n",
       " 'StartOfDay': 0,\n",
       " 'PreserveDuplicatedValues': False,\n",
       " 'Aggregation': None,\n",
       " 'QuotationDefaultBehavior': None,\n",
       " 'Quotation': False,\n",
       " 'Audit': False,\n",
       " 'Compressed': False,\n",
       " 'ExchangeTimeSeries': []}"
      ]
     },
     "execution_count": 70,
     "metadata": {},
     "output_type": "execute_result"
    }
   ],
   "source": [
    "test_time_series_name = 'temperature_test_aeneas'\n",
    "\n",
    "ts_def = hakom.repositories.timeseries.get(test_time_series_name)\n",
    "created = ts_def['ID']\n",
    "ts_def"
   ]
  },
  {
   "cell_type": "code",
   "execution_count": 68,
   "id": "9d0a81d7",
   "metadata": {},
   "outputs": [],
   "source": [
    "\n",
    "\n",
    "# see if time series exists\n",
    "# definition = hakom.types.TimeSeriesDefinition(\n",
    "#     Name=test_time_series_name,\n",
    "#     Type=hakom.types.TimeSeriesTypes.Begin,\n",
    "#     Unit=unit_label,\n",
    "#     Interval=one_hour_interval,\n",
    "# )\n",
    "\n",
    "# created = hakom.repositories.timeseries.create(definition)\n",
    "# created"
   ]
  },
  {
   "cell_type": "code",
   "execution_count": 71,
   "id": "be71d9a7",
   "metadata": {},
   "outputs": [
    {
     "data": {
      "text/plain": [
       "True"
      ]
     },
     "execution_count": 71,
     "metadata": {},
     "output_type": "execute_result"
    }
   ],
   "source": [
    "hakom.repositories.timeseries.data.save(created, tsdc)"
   ]
  },
  {
   "cell_type": "code",
   "execution_count": 38,
   "id": "89280ee1",
   "metadata": {},
   "outputs": [
    {
     "data": {
      "text/html": [
       "<div>\n",
       "<style scoped>\n",
       "    .dataframe tbody tr th:only-of-type {\n",
       "        vertical-align: middle;\n",
       "    }\n",
       "\n",
       "    .dataframe tbody tr th {\n",
       "        vertical-align: top;\n",
       "    }\n",
       "\n",
       "    .dataframe thead th {\n",
       "        text-align: right;\n",
       "    }\n",
       "</style>\n",
       "<table border=\"1\" class=\"dataframe\">\n",
       "  <thead>\n",
       "    <tr style=\"text-align: right;\">\n",
       "      <th></th>\n",
       "      <th>Value</th>\n",
       "      <th>Flag</th>\n",
       "    </tr>\n",
       "    <tr>\n",
       "      <th>From</th>\n",
       "      <th></th>\n",
       "      <th></th>\n",
       "    </tr>\n",
       "  </thead>\n",
       "  <tbody>\n",
       "    <tr>\n",
       "      <th>2018-01-01 00:00:00+00:00</th>\n",
       "      <td>21.7</td>\n",
       "      <td>9</td>\n",
       "    </tr>\n",
       "    <tr>\n",
       "      <th>2018-01-01 01:00:00+00:00</th>\n",
       "      <td>21.3</td>\n",
       "      <td>9</td>\n",
       "    </tr>\n",
       "    <tr>\n",
       "      <th>2018-01-01 02:00:00+00:00</th>\n",
       "      <td>21.7</td>\n",
       "      <td>9</td>\n",
       "    </tr>\n",
       "    <tr>\n",
       "      <th>2018-01-01 03:00:00+00:00</th>\n",
       "      <td>21.2</td>\n",
       "      <td>9</td>\n",
       "    </tr>\n",
       "    <tr>\n",
       "      <th>2018-01-01 04:00:00+00:00</th>\n",
       "      <td>20.8</td>\n",
       "      <td>9</td>\n",
       "    </tr>\n",
       "  </tbody>\n",
       "</table>\n",
       "</div>"
      ],
      "text/plain": [
       "                           Value  Flag\n",
       "From                                  \n",
       "2018-01-01 00:00:00+00:00   21.7     9\n",
       "2018-01-01 01:00:00+00:00   21.3     9\n",
       "2018-01-01 02:00:00+00:00   21.7     9\n",
       "2018-01-01 03:00:00+00:00   21.2     9\n",
       "2018-01-01 04:00:00+00:00   20.8     9"
      ]
     },
     "execution_count": 38,
     "metadata": {},
     "output_type": "execute_result"
    }
   ],
   "source": [
    "min_date = df_test.iloc[0]['from']\n",
    "max_date = df_test.iloc[-1]['from']\n",
    "data_query = {\"from\": min_date, \"to\": max_date}\n",
    "retrieved_data = hakom.repositories.timeseries.data.get(created, data_query)\n",
    "\n",
    "ret_df = hakom.pandas_interop.to_pandas_dataframe(retrieved_data)\n",
    "ret_df.head()"
   ]
  },
  {
   "cell_type": "code",
   "execution_count": 40,
   "id": "0abf48f1",
   "metadata": {},
   "outputs": [
    {
     "data": {
      "text/plain": [
       "<AxesSubplot:xlabel='From'>"
      ]
     },
     "execution_count": 40,
     "metadata": {},
     "output_type": "execute_result"
    },
    {
     "data": {
      "image/png": "[encoded data removed]",
      "text/plain": [
       "<Figure size 432x288 with 1 Axes>"
      ]
     },
     "metadata": {
      "needs_background": "light"
     },
     "output_type": "display_data"
    }
   ],
   "source": [
    "ret_df.plot(y=['Value'])"
   ]
  },
  {
   "cell_type": "code",
   "execution_count": null,
   "id": "45307a23",
   "metadata": {},
   "outputs": [],
   "source": []
  }
 ],
 "metadata": {
  "kernelspec": {
   "display_name": "Python 3",
   "language": "python",
   "name": "python3"
  },
  "language_info": {
   "codemirror_mode": {
    "name": "ipython",
    "version": 3
   },
   "file_extension": ".py",
   "mimetype": "text/x-python",
   "name": "python",
   "nbconvert_exporter": "python",
   "pygments_lexer": "ipython3",
   "version": "3.9.7"
  }
 },
 "nbformat": 4,
 "nbformat_minor": 5
}
