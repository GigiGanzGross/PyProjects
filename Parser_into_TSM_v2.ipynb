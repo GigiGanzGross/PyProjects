{
 "cells": [
  {
   "cell_type": "code",
   "execution_count": 4,
   "metadata": {},
   "outputs": [],
   "source": [
    "# Import Libraries \n",
    "import hakom\n",
    "import json\n",
    "import matplotlib.pyplot as plt\n",
    "%matplotlib inline\n",
    "import numpy as np\n",
    "import getpass\n",
    "import urllib.request, json \n",
    "import pandas as pd\n",
    "from datetime import datetime, timedelta\n",
    "#teständerung"
   ]
  },
  {
   "cell_type": "code",
   "execution_count": 5,
   "metadata": {},
   "outputs": [],
   "source": [
    "def parse_inmet(station_str):\n",
    "    data =[]\n",
    "\n",
    "    for year in range(2018,2023):\n",
    "\n",
    "        \n",
    "        date_begin = '{}-01-01'.format(year)\n",
    "        date_end = '{}-12-31'.format(year)\n",
    "\n",
    "        url_str = 'https://apitempo.inmet.gov.br/estacao/{}/{}/{}'.format(date_begin, date_end, str(station_str))\n",
    "        print(url_str)\n",
    "\n",
    "\n",
    "        # Edit: add loop to run over list of selected stations and dates\n",
    "\n",
    "        with urllib.request.urlopen(url_str) as url:\n",
    "            temp = pd.read_json(url.read().decode())\n",
    "        data.append(temp)\n",
    "    data = pd.concat(data)\n",
    "\n",
    "    return data\n"
   ]
  },
  {
   "cell_type": "code",
   "execution_count": 7,
   "metadata": {},
   "outputs": [
    {
     "name": "stdout",
     "output_type": "stream",
     "text": [
      "https://apitempo.inmet.gov.br/estacao/2018-01-01/2018-12-31/A521\n",
      "https://apitempo.inmet.gov.br/estacao/2019-01-01/2019-12-31/A521\n",
      "https://apitempo.inmet.gov.br/estacao/2020-01-01/2020-12-31/A521\n",
      "https://apitempo.inmet.gov.br/estacao/2021-01-01/2021-12-31/A521\n",
      "https://apitempo.inmet.gov.br/estacao/2022-01-01/2022-12-31/A521\n"
     ]
    },
    {
     "data": {
      "text/plain": [
       "(43824, 27)"
      ]
     },
     "execution_count": 7,
     "metadata": {},
     "output_type": "execute_result"
    }
   ],
   "source": [
    "data = parse_inmet('A521')\n",
    "data.shape"
   ]
  },
  {
   "cell_type": "code",
   "execution_count": 8,
   "metadata": {},
   "outputs": [
    {
     "data": {
      "text/plain": [
       "(43824, 27)"
      ]
     },
     "execution_count": 8,
     "metadata": {},
     "output_type": "execute_result"
    }
   ],
   "source": [
    "data.shape"
   ]
  },
  {
   "cell_type": "code",
   "execution_count": 12,
   "metadata": {},
   "outputs": [],
   "source": [
    "def timeframe_inmet(data):\n",
    "    data['timestamp'] = pd.to_datetime(data['DT_MEDICAO']) + pd.to_timedelta(data['HR_MEDICAO'] // 100, unit='h')\n",
    "    data = data.set_index('timestamp')\n",
    "    data = data.asfreq('h')\n",
    "    \n",
    "    df_temp = data[['TEM_INS']]\n",
    "    df_wdir = data[['VEN_DIR']]\n",
    "    df_wspeed = data[['VEN_VEL']]\n",
    "    return data, df_temp\n"
   ]
  },
  {
   "cell_type": "code",
   "execution_count": 13,
   "metadata": {},
   "outputs": [],
   "source": [
    "df,df_temp = timeframe_inmet(data)\n"
   ]
  },
  {
   "cell_type": "code",
   "execution_count": 20,
   "metadata": {},
   "outputs": [],
   "source": [
    "def inmet_TEMP_into_TSM_format(df):\n",
    "    df = hakom.pandas_interop.create_timestamp_colum_from_index(df)\n",
    "    df['flag'] = 9\n",
    "    one_hour_interval = hakom.types.Interval(hakom.types.Intervals.Hour)\n",
    "    unit_label = '°C'\n",
    "    tsdc = hakom.pandas_interop.to_hakom_tsdata_collection(\n",
    "        df.dropna(),\n",
    "        interval=one_hour_interval,\n",
    "        unit=unit_label,\n",
    "        dt_flag_value_order=[2,1,3]\n",
    "    )\n",
    "    return tsdc"
   ]
  },
  {
   "cell_type": "code",
   "execution_count": 21,
   "metadata": {},
   "outputs": [
    {
     "data": {
      "text/plain": [
       "[TimeSeriesDataItemTimeStamp(From='2018-01-01T00:00:00.000000Z', Value=21.7, Flag=9),\n",
       " TimeSeriesDataItemTimeStamp(From='2018-01-01T01:00:00.000000Z', Value=21.3, Flag=9),\n",
       " TimeSeriesDataItemTimeStamp(From='2018-01-01T02:00:00.000000Z', Value=21.7, Flag=9)]"
      ]
     },
     "execution_count": 21,
     "metadata": {},
     "output_type": "execute_result"
    }
   ],
   "source": [
    "df_tsm = inmet_TEMP_into_TSM_format(df_temp)\n",
    "df_tsm.Data[:3]"
   ]
  },
  {
   "cell_type": "code",
   "execution_count": null,
   "metadata": {},
   "outputs": [],
   "source": []
  }
 ],
 "metadata": {
  "interpreter": {
   "hash": "1824e84b8ac6b85d1913a2956db397320de8d4a1ee39a1f1d1ad7d271a83e50e"
  },
  "kernelspec": {
   "display_name": "Python 3.9.7 ('test-environment')",
   "language": "python",
   "name": "python3"
  },
  "language_info": {
   "codemirror_mode": {
    "name": "ipython",
    "version": 3
   },
   "file_extension": ".py",
   "mimetype": "text/x-python",
   "name": "python",
   "nbconvert_exporter": "python",
   "pygments_lexer": "ipython3",
   "version": "3.9.7"
  },
  "orig_nbformat": 4
 },
 "nbformat": 4,
 "nbformat_minor": 2
}
