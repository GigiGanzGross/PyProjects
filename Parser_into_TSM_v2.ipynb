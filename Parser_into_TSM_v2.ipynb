{
 "cells": [
  {
   "cell_type": "code",
   "execution_count": 4,
   "metadata": {},
   "outputs": [],
   "source": [
    "# Import Libraries \n",
    "import hakom\n",
    "import json\n",
    "import matplotlib.pyplot as plt\n",
    "%matplotlib inline\n",
    "import numpy as np\n",
    "import getpass\n",
    "import urllib.request, json \n",
    "import pandas as pd\n",
    "from datetime import datetime, timedelta\n",
    "#teständerung"
   ]
  },
  {
   "cell_type": "code",
   "execution_count": 25,
   "metadata": {},
   "outputs": [],
   "source": [
    "api_pwd = getpass.getpass()\n"
   ]
  },
  {
   "cell_type": "code",
   "execution_count": 26,
   "metadata": {},
   "outputs": [],
   "source": [
    "auth_params = hakom.authorization.AuthParams(\n",
    "    username = 'aeneas',\n",
    "    password = api_pwd,\n",
    ")\n",
    "\n",
    "service_config = hakom.service.ServiceConfig(\n",
    "    base_url=\"https://fehostedwebapp.azurewebsites.net/MAIN/api/\",\n",
    "    auth_params=auth_params,\n",
    "    repository='ZAMS'\n",
    ")\n",
    "\n",
    "hakom.initialize(service_config)"
   ]
  },
  {
   "cell_type": "code",
   "execution_count": 5,
   "metadata": {},
   "outputs": [],
   "source": [
    "def parse_inmet(station_str):\n",
    "    data =[]\n",
    "\n",
    "    for year in range(2018,2023):\n",
    "\n",
    "        \n",
    "        date_begin = '{}-01-01'.format(year)\n",
    "        date_end = '{}-12-31'.format(year)\n",
    "\n",
    "        url_str = 'https://apitempo.inmet.gov.br/estacao/{}/{}/{}'.format(date_begin, date_end, str(station_str))\n",
    "        print(url_str)\n",
    "\n",
    "\n",
    "        # Edit: add loop to run over list of selected stations and dates\n",
    "\n",
    "        with urllib.request.urlopen(url_str) as url:\n",
    "            temp = pd.read_json(url.read().decode())\n",
    "        data.append(temp)\n",
    "    data = pd.concat(data)\n",
    "\n",
    "    return data\n"
   ]
  },
  {
   "cell_type": "code",
   "execution_count": 7,
   "metadata": {},
   "outputs": [
    {
     "name": "stdout",
     "output_type": "stream",
     "text": [
      "https://apitempo.inmet.gov.br/estacao/2018-01-01/2018-12-31/A521\n",
      "https://apitempo.inmet.gov.br/estacao/2019-01-01/2019-12-31/A521\n",
      "https://apitempo.inmet.gov.br/estacao/2020-01-01/2020-12-31/A521\n",
      "https://apitempo.inmet.gov.br/estacao/2021-01-01/2021-12-31/A521\n",
      "https://apitempo.inmet.gov.br/estacao/2022-01-01/2022-12-31/A521\n"
     ]
    },
    {
     "data": {
      "text/plain": [
       "(43824, 27)"
      ]
     },
     "execution_count": 7,
     "metadata": {},
     "output_type": "execute_result"
    }
   ],
   "source": [
    "data = parse_inmet('A521')\n",
    "data.shape"
   ]
  },
  {
   "cell_type": "code",
   "execution_count": 8,
   "metadata": {},
   "outputs": [
    {
     "data": {
      "text/plain": [
       "(43824, 27)"
      ]
     },
     "execution_count": 8,
     "metadata": {},
     "output_type": "execute_result"
    }
   ],
   "source": [
    "data.shape"
   ]
  },
  {
   "cell_type": "code",
   "execution_count": 12,
   "metadata": {},
   "outputs": [],
   "source": [
    "def timeframe_inmet(data):\n",
    "    data['timestamp'] = pd.to_datetime(data['DT_MEDICAO']) + pd.to_timedelta(data['HR_MEDICAO'] // 100, unit='h')\n",
    "    data = data.set_index('timestamp')\n",
    "    data = data.asfreq('h')\n",
    "    \n",
    "    df_temp = data[['TEM_INS']]\n",
    "    df_wdir = data[['VEN_DIR']]\n",
    "    df_wspeed = data[['VEN_VEL']]\n",
    "    return data, df_temp\n"
   ]
  },
  {
   "cell_type": "code",
   "execution_count": 13,
   "metadata": {},
   "outputs": [],
   "source": [
    "df,df_temp = timeframe_inmet(data)\n"
   ]
  },
  {
   "cell_type": "code",
   "execution_count": 20,
   "metadata": {},
   "outputs": [],
   "source": [
    "def inmet_TEMP_into_TSM_format(df):\n",
    "    df = hakom.pandas_interop.create_timestamp_colum_from_index(df)\n",
    "    df['flag'] = 9\n",
    "    one_hour_interval = hakom.types.Interval(hakom.types.Intervals.Hour)\n",
    "    unit_label = '°C'\n",
    "    tsdc = hakom.pandas_interop.to_hakom_tsdata_collection(\n",
    "        df.dropna(),\n",
    "        interval=one_hour_interval,\n",
    "        unit=unit_label,\n",
    "        dt_flag_value_order=[2,1,3]\n",
    "    )\n",
    "    return tsdc"
   ]
  },
  {
   "cell_type": "code",
   "execution_count": 21,
   "metadata": {},
   "outputs": [
    {
     "data": {
      "text/plain": [
       "[TimeSeriesDataItemTimeStamp(From='2018-01-01T00:00:00.000000Z', Value=21.7, Flag=9),\n",
       " TimeSeriesDataItemTimeStamp(From='2018-01-01T01:00:00.000000Z', Value=21.3, Flag=9),\n",
       " TimeSeriesDataItemTimeStamp(From='2018-01-01T02:00:00.000000Z', Value=21.7, Flag=9)]"
      ]
     },
     "execution_count": 21,
     "metadata": {},
     "output_type": "execute_result"
    }
   ],
   "source": [
    "df_tsm = inmet_TEMP_into_TSM_format(df_temp)\n",
    "df_tsm.Data[:3]"
   ]
  },
  {
   "cell_type": "code",
   "execution_count": 24,
   "metadata": {},
   "outputs": [],
   "source": [
    "def create_TSM_timeseries(time_series_name, unit_label, interval = 'one_hour_interval'):\n",
    "     definition = hakom.types.TimeSeriesDefinition(\n",
    "     Name=time_series_name,\n",
    "     Type=hakom.types.TimeSeriesTypes.Begin,\n",
    "     Unit=unit_label,\n",
    "     Interval=interval,\n",
    "    )\n",
    "     created = hakom.repositories.timeseries.create(definition)\n",
    "     return created"
   ]
  },
  {
   "cell_type": "code",
   "execution_count": 27,
   "metadata": {},
   "outputs": [
    {
     "ename": "BadRequestError",
     "evalue": "Could not deserialize body. - Details: The JSON value could not be converted to HAKOM.Framework.Components2016.TimeSeries.Interval. Path: $.Interval | LineNumber: 0 | BytePositionInLine: 67. Path: $ | LineNumber: 0 | BytePositionInLine: 1. Body: {\"Name\":\"aeneas_test_again\",\"Type\":1,\"Interval\":\"one_hour_interval\",\"Unit\":\"°C\",\"PreserveDuplicatedValues\":false,\"Quotation\":false,\"Audit\":false,\"Compressed\":false}",
     "output_type": "error",
     "traceback": [
      "\u001b[1;31m---------------------------------------------------------------------------\u001b[0m",
      "\u001b[1;31mBadRequestError\u001b[0m                           Traceback (most recent call last)",
      "Input \u001b[1;32mIn [27]\u001b[0m, in \u001b[0;36m<cell line: 1>\u001b[1;34m()\u001b[0m\n\u001b[1;32m----> 1\u001b[0m a \u001b[39m=\u001b[39m create_TSM_timeseries(\u001b[39m'\u001b[39;49m\u001b[39maeneas_test_again\u001b[39;49m\u001b[39m'\u001b[39;49m, \u001b[39m'\u001b[39;49m\u001b[39m°C\u001b[39;49m\u001b[39m'\u001b[39;49m)\n",
      "\u001b[1;32mc:\\Users\\Aeneas\\Documents\\GIT\\PyProjects\\Parser_into_TSM_v2.ipynb Cell 2'\u001b[0m in \u001b[0;36mcreate_TSM_timeseries\u001b[1;34m(time_series_name, unit_label, interval)\u001b[0m\n\u001b[0;32m      <a href='vscode-notebook-cell:/c%3A/Users/Aeneas/Documents/GIT/PyProjects/Parser_into_TSM_v2.ipynb#ch0000010?line=0'>1</a>\u001b[0m \u001b[39mdef\u001b[39;00m \u001b[39mcreate_TSM_timeseries\u001b[39m(time_series_name, unit_label, interval \u001b[39m=\u001b[39m \u001b[39m'\u001b[39m\u001b[39mone_hour_interval\u001b[39m\u001b[39m'\u001b[39m):\n\u001b[0;32m      <a href='vscode-notebook-cell:/c%3A/Users/Aeneas/Documents/GIT/PyProjects/Parser_into_TSM_v2.ipynb#ch0000010?line=1'>2</a>\u001b[0m      definition \u001b[39m=\u001b[39m hakom\u001b[39m.\u001b[39mtypes\u001b[39m.\u001b[39mTimeSeriesDefinition(\n\u001b[0;32m      <a href='vscode-notebook-cell:/c%3A/Users/Aeneas/Documents/GIT/PyProjects/Parser_into_TSM_v2.ipynb#ch0000010?line=2'>3</a>\u001b[0m      Name\u001b[39m=\u001b[39mtime_series_name,\n\u001b[0;32m      <a href='vscode-notebook-cell:/c%3A/Users/Aeneas/Documents/GIT/PyProjects/Parser_into_TSM_v2.ipynb#ch0000010?line=3'>4</a>\u001b[0m      Type\u001b[39m=\u001b[39mhakom\u001b[39m.\u001b[39mtypes\u001b[39m.\u001b[39mTimeSeriesTypes\u001b[39m.\u001b[39mBegin,\n\u001b[0;32m      <a href='vscode-notebook-cell:/c%3A/Users/Aeneas/Documents/GIT/PyProjects/Parser_into_TSM_v2.ipynb#ch0000010?line=4'>5</a>\u001b[0m      Unit\u001b[39m=\u001b[39munit_label,\n\u001b[0;32m      <a href='vscode-notebook-cell:/c%3A/Users/Aeneas/Documents/GIT/PyProjects/Parser_into_TSM_v2.ipynb#ch0000010?line=5'>6</a>\u001b[0m      Interval\u001b[39m=\u001b[39minterval,\n\u001b[0;32m      <a href='vscode-notebook-cell:/c%3A/Users/Aeneas/Documents/GIT/PyProjects/Parser_into_TSM_v2.ipynb#ch0000010?line=6'>7</a>\u001b[0m     )\n\u001b[1;32m----> <a href='vscode-notebook-cell:/c%3A/Users/Aeneas/Documents/GIT/PyProjects/Parser_into_TSM_v2.ipynb#ch0000010?line=7'>8</a>\u001b[0m      created \u001b[39m=\u001b[39m hakom\u001b[39m.\u001b[39;49mrepositories\u001b[39m.\u001b[39;49mtimeseries\u001b[39m.\u001b[39;49mcreate(definition)\n",
      "File \u001b[1;32mc:\\Users\\Aeneas\\Anaconda3\\envs\\test-environment\\lib\\site-packages\\hakom\\repositories\\timeseries\\__init__.py:523\u001b[0m, in \u001b[0;36mcreate\u001b[1;34m(definition, service_config, request_id)\u001b[0m\n\u001b[0;32m    <a href='file:///c%3A/Users/Aeneas/Anaconda3/envs/test-environment/lib/site-packages/hakom/repositories/timeseries/__init__.py?line=520'>521</a>\u001b[0m checkError \u001b[39m=\u001b[39m _errorhandling\u001b[39m.\u001b[39merror_to_exception(errors)\n\u001b[0;32m    <a href='file:///c%3A/Users/Aeneas/Anaconda3/envs/test-environment/lib/site-packages/hakom/repositories/timeseries/__init__.py?line=521'>522</a>\u001b[0m \u001b[39mif\u001b[39;00m checkError:\n\u001b[1;32m--> <a href='file:///c%3A/Users/Aeneas/Anaconda3/envs/test-environment/lib/site-packages/hakom/repositories/timeseries/__init__.py?line=522'>523</a>\u001b[0m     \u001b[39mraise\u001b[39;00m checkError\n\u001b[0;32m    <a href='file:///c%3A/Users/Aeneas/Anaconda3/envs/test-environment/lib/site-packages/hakom/repositories/timeseries/__init__.py?line=524'>525</a>\u001b[0m \u001b[39mif\u001b[39;00m r_id \u001b[39mis\u001b[39;00m \u001b[39mnot\u001b[39;00m \u001b[39mNone\u001b[39;00m:\n\u001b[0;32m    <a href='file:///c%3A/Users/Aeneas/Anaconda3/envs/test-environment/lib/site-packages/hakom/repositories/timeseries/__init__.py?line=525'>526</a>\u001b[0m     \u001b[39mreturn\u001b[39;00m result, r_id\n",
      "\u001b[1;31mBadRequestError\u001b[0m: Could not deserialize body. - Details: The JSON value could not be converted to HAKOM.Framework.Components2016.TimeSeries.Interval. Path: $.Interval | LineNumber: 0 | BytePositionInLine: 67. Path: $ | LineNumber: 0 | BytePositionInLine: 1. Body: {\"Name\":\"aeneas_test_again\",\"Type\":1,\"Interval\":\"one_hour_interval\",\"Unit\":\"°C\",\"PreserveDuplicatedValues\":false,\"Quotation\":false,\"Audit\":false,\"Compressed\":false}"
     ]
    }
   ],
   "source": [
    "a = create_TSM_timeseries('aeneas_test_again', '°C')"
   ]
  },
  {
   "cell_type": "code",
   "execution_count": 28,
   "metadata": {},
   "outputs": [
    {
     "data": {
      "text/plain": [
       "{'ID': 2500,\n",
       " 'Name': 'temperature_test_aeneas',\n",
       " 'Description': '',\n",
       " 'Type': 1,\n",
       " 'Interval': {'Value': 3, 'Multiplier': 1},\n",
       " 'Unit': '°C',\n",
       " 'Table': None,\n",
       " 'ArchiveTable': None,\n",
       " 'Formula': None,\n",
       " 'TimeZone': None,\n",
       " 'StartOfYear': 1,\n",
       " 'StartOfDay': 0,\n",
       " 'PreserveDuplicatedValues': False,\n",
       " 'Aggregation': None,\n",
       " 'QuotationDefaultBehavior': None,\n",
       " 'Quotation': False,\n",
       " 'Audit': False,\n",
       " 'Compressed': False,\n",
       " 'ExchangeTimeSeries': []}"
      ]
     },
     "execution_count": 28,
     "metadata": {},
     "output_type": "execute_result"
    }
   ],
   "source": [
    "test_time_series_name = 'temperature_test_aeneas'\n",
    "\n",
    "ts_def = hakom.repositories.timeseries.get(test_time_series_name)\n",
    "created = ts_def['ID']\n",
    "ts_def"
   ]
  },
  {
   "cell_type": "code",
   "execution_count": 29,
   "metadata": {},
   "outputs": [
    {
     "data": {
      "text/plain": [
       "True"
      ]
     },
     "execution_count": 29,
     "metadata": {},
     "output_type": "execute_result"
    }
   ],
   "source": [
    "hakom.repositories.timeseries.data.save(created, df_tsm)"
   ]
  },
  {
   "cell_type": "code",
   "execution_count": 33,
   "metadata": {},
   "outputs": [],
   "source": [
    "ts_def = hakom.repositories.timeseries.get(2516)"
   ]
  },
  {
   "cell_type": "code",
   "execution_count": 32,
   "metadata": {},
   "outputs": [
    {
     "ename": "KeyError",
     "evalue": "'from'",
     "output_type": "error",
     "traceback": [
      "\u001b[1;31m---------------------------------------------------------------------------\u001b[0m",
      "\u001b[1;31mKeyError\u001b[0m                                  Traceback (most recent call last)",
      "File \u001b[1;32mc:\\Users\\Aeneas\\Anaconda3\\envs\\test-environment\\lib\\site-packages\\pandas\\core\\indexes\\base.py:3621\u001b[0m, in \u001b[0;36mIndex.get_loc\u001b[1;34m(self, key, method, tolerance)\u001b[0m\n\u001b[0;32m   <a href='file:///c%3A/Users/Aeneas/Anaconda3/envs/test-environment/lib/site-packages/pandas/core/indexes/base.py?line=3619'>3620</a>\u001b[0m \u001b[39mtry\u001b[39;00m:\n\u001b[1;32m-> <a href='file:///c%3A/Users/Aeneas/Anaconda3/envs/test-environment/lib/site-packages/pandas/core/indexes/base.py?line=3620'>3621</a>\u001b[0m     \u001b[39mreturn\u001b[39;00m \u001b[39mself\u001b[39;49m\u001b[39m.\u001b[39;49m_engine\u001b[39m.\u001b[39;49mget_loc(casted_key)\n\u001b[0;32m   <a href='file:///c%3A/Users/Aeneas/Anaconda3/envs/test-environment/lib/site-packages/pandas/core/indexes/base.py?line=3621'>3622</a>\u001b[0m \u001b[39mexcept\u001b[39;00m \u001b[39mKeyError\u001b[39;00m \u001b[39mas\u001b[39;00m err:\n",
      "File \u001b[1;32mc:\\Users\\Aeneas\\Anaconda3\\envs\\test-environment\\lib\\site-packages\\pandas\\_libs\\index.pyx:136\u001b[0m, in \u001b[0;36mpandas._libs.index.IndexEngine.get_loc\u001b[1;34m()\u001b[0m\n",
      "File \u001b[1;32mc:\\Users\\Aeneas\\Anaconda3\\envs\\test-environment\\lib\\site-packages\\pandas\\_libs\\index.pyx:163\u001b[0m, in \u001b[0;36mpandas._libs.index.IndexEngine.get_loc\u001b[1;34m()\u001b[0m\n",
      "File \u001b[1;32mpandas\\_libs\\hashtable_class_helper.pxi:5198\u001b[0m, in \u001b[0;36mpandas._libs.hashtable.PyObjectHashTable.get_item\u001b[1;34m()\u001b[0m\n",
      "File \u001b[1;32mpandas\\_libs\\hashtable_class_helper.pxi:5206\u001b[0m, in \u001b[0;36mpandas._libs.hashtable.PyObjectHashTable.get_item\u001b[1;34m()\u001b[0m\n",
      "\u001b[1;31mKeyError\u001b[0m: 'from'",
      "\nThe above exception was the direct cause of the following exception:\n",
      "\u001b[1;31mKeyError\u001b[0m                                  Traceback (most recent call last)",
      "Input \u001b[1;32mIn [32]\u001b[0m, in \u001b[0;36m<cell line: 1>\u001b[1;34m()\u001b[0m\n\u001b[1;32m----> 1\u001b[0m min_date \u001b[39m=\u001b[39m df_temp\u001b[39m.\u001b[39;49miloc[\u001b[39m0\u001b[39;49m][\u001b[39m'\u001b[39;49m\u001b[39mfrom\u001b[39;49m\u001b[39m'\u001b[39;49m]\n\u001b[0;32m      2\u001b[0m max_date \u001b[39m=\u001b[39m df_temp\u001b[39m.\u001b[39miloc[\u001b[39m-\u001b[39m\u001b[39m1\u001b[39m][\u001b[39m'\u001b[39m\u001b[39mfrom\u001b[39m\u001b[39m'\u001b[39m]\n\u001b[0;32m      3\u001b[0m data_query \u001b[39m=\u001b[39m {\u001b[39m\"\u001b[39m\u001b[39mfrom\u001b[39m\u001b[39m\"\u001b[39m: min_date, \u001b[39m\"\u001b[39m\u001b[39mto\u001b[39m\u001b[39m\"\u001b[39m: max_date}\n",
      "File \u001b[1;32mc:\\Users\\Aeneas\\Anaconda3\\envs\\test-environment\\lib\\site-packages\\pandas\\core\\series.py:958\u001b[0m, in \u001b[0;36mSeries.__getitem__\u001b[1;34m(self, key)\u001b[0m\n\u001b[0;32m    <a href='file:///c%3A/Users/Aeneas/Anaconda3/envs/test-environment/lib/site-packages/pandas/core/series.py?line=954'>955</a>\u001b[0m     \u001b[39mreturn\u001b[39;00m \u001b[39mself\u001b[39m\u001b[39m.\u001b[39m_values[key]\n\u001b[0;32m    <a href='file:///c%3A/Users/Aeneas/Anaconda3/envs/test-environment/lib/site-packages/pandas/core/series.py?line=956'>957</a>\u001b[0m \u001b[39melif\u001b[39;00m key_is_scalar:\n\u001b[1;32m--> <a href='file:///c%3A/Users/Aeneas/Anaconda3/envs/test-environment/lib/site-packages/pandas/core/series.py?line=957'>958</a>\u001b[0m     \u001b[39mreturn\u001b[39;00m \u001b[39mself\u001b[39;49m\u001b[39m.\u001b[39;49m_get_value(key)\n\u001b[0;32m    <a href='file:///c%3A/Users/Aeneas/Anaconda3/envs/test-environment/lib/site-packages/pandas/core/series.py?line=959'>960</a>\u001b[0m \u001b[39mif\u001b[39;00m is_hashable(key):\n\u001b[0;32m    <a href='file:///c%3A/Users/Aeneas/Anaconda3/envs/test-environment/lib/site-packages/pandas/core/series.py?line=960'>961</a>\u001b[0m     \u001b[39m# Otherwise index.get_value will raise InvalidIndexError\u001b[39;00m\n\u001b[0;32m    <a href='file:///c%3A/Users/Aeneas/Anaconda3/envs/test-environment/lib/site-packages/pandas/core/series.py?line=961'>962</a>\u001b[0m     \u001b[39mtry\u001b[39;00m:\n\u001b[0;32m    <a href='file:///c%3A/Users/Aeneas/Anaconda3/envs/test-environment/lib/site-packages/pandas/core/series.py?line=962'>963</a>\u001b[0m         \u001b[39m# For labels that don't resolve as scalars like tuples and frozensets\u001b[39;00m\n",
      "File \u001b[1;32mc:\\Users\\Aeneas\\Anaconda3\\envs\\test-environment\\lib\\site-packages\\pandas\\core\\series.py:1069\u001b[0m, in \u001b[0;36mSeries._get_value\u001b[1;34m(self, label, takeable)\u001b[0m\n\u001b[0;32m   <a href='file:///c%3A/Users/Aeneas/Anaconda3/envs/test-environment/lib/site-packages/pandas/core/series.py?line=1065'>1066</a>\u001b[0m     \u001b[39mreturn\u001b[39;00m \u001b[39mself\u001b[39m\u001b[39m.\u001b[39m_values[label]\n\u001b[0;32m   <a href='file:///c%3A/Users/Aeneas/Anaconda3/envs/test-environment/lib/site-packages/pandas/core/series.py?line=1067'>1068</a>\u001b[0m \u001b[39m# Similar to Index.get_value, but we do not fall back to positional\u001b[39;00m\n\u001b[1;32m-> <a href='file:///c%3A/Users/Aeneas/Anaconda3/envs/test-environment/lib/site-packages/pandas/core/series.py?line=1068'>1069</a>\u001b[0m loc \u001b[39m=\u001b[39m \u001b[39mself\u001b[39;49m\u001b[39m.\u001b[39;49mindex\u001b[39m.\u001b[39;49mget_loc(label)\n\u001b[0;32m   <a href='file:///c%3A/Users/Aeneas/Anaconda3/envs/test-environment/lib/site-packages/pandas/core/series.py?line=1069'>1070</a>\u001b[0m \u001b[39mreturn\u001b[39;00m \u001b[39mself\u001b[39m\u001b[39m.\u001b[39mindex\u001b[39m.\u001b[39m_get_values_for_loc(\u001b[39mself\u001b[39m, loc, label)\n",
      "File \u001b[1;32mc:\\Users\\Aeneas\\Anaconda3\\envs\\test-environment\\lib\\site-packages\\pandas\\core\\indexes\\base.py:3623\u001b[0m, in \u001b[0;36mIndex.get_loc\u001b[1;34m(self, key, method, tolerance)\u001b[0m\n\u001b[0;32m   <a href='file:///c%3A/Users/Aeneas/Anaconda3/envs/test-environment/lib/site-packages/pandas/core/indexes/base.py?line=3620'>3621</a>\u001b[0m     \u001b[39mreturn\u001b[39;00m \u001b[39mself\u001b[39m\u001b[39m.\u001b[39m_engine\u001b[39m.\u001b[39mget_loc(casted_key)\n\u001b[0;32m   <a href='file:///c%3A/Users/Aeneas/Anaconda3/envs/test-environment/lib/site-packages/pandas/core/indexes/base.py?line=3621'>3622</a>\u001b[0m \u001b[39mexcept\u001b[39;00m \u001b[39mKeyError\u001b[39;00m \u001b[39mas\u001b[39;00m err:\n\u001b[1;32m-> <a href='file:///c%3A/Users/Aeneas/Anaconda3/envs/test-environment/lib/site-packages/pandas/core/indexes/base.py?line=3622'>3623</a>\u001b[0m     \u001b[39mraise\u001b[39;00m \u001b[39mKeyError\u001b[39;00m(key) \u001b[39mfrom\u001b[39;00m \u001b[39merr\u001b[39;00m\n\u001b[0;32m   <a href='file:///c%3A/Users/Aeneas/Anaconda3/envs/test-environment/lib/site-packages/pandas/core/indexes/base.py?line=3623'>3624</a>\u001b[0m \u001b[39mexcept\u001b[39;00m \u001b[39mTypeError\u001b[39;00m:\n\u001b[0;32m   <a href='file:///c%3A/Users/Aeneas/Anaconda3/envs/test-environment/lib/site-packages/pandas/core/indexes/base.py?line=3624'>3625</a>\u001b[0m     \u001b[39m# If we have a listlike key, _check_indexing_error will raise\u001b[39;00m\n\u001b[0;32m   <a href='file:///c%3A/Users/Aeneas/Anaconda3/envs/test-environment/lib/site-packages/pandas/core/indexes/base.py?line=3625'>3626</a>\u001b[0m     \u001b[39m#  InvalidIndexError. Otherwise we fall through and re-raise\u001b[39;00m\n\u001b[0;32m   <a href='file:///c%3A/Users/Aeneas/Anaconda3/envs/test-environment/lib/site-packages/pandas/core/indexes/base.py?line=3626'>3627</a>\u001b[0m     \u001b[39m#  the TypeError.\u001b[39;00m\n\u001b[0;32m   <a href='file:///c%3A/Users/Aeneas/Anaconda3/envs/test-environment/lib/site-packages/pandas/core/indexes/base.py?line=3627'>3628</a>\u001b[0m     \u001b[39mself\u001b[39m\u001b[39m.\u001b[39m_check_indexing_error(key)\n",
      "\u001b[1;31mKeyError\u001b[0m: 'from'"
     ]
    }
   ],
   "source": [
    "min_date = df_temp.iloc[0]['from']\n",
    "max_date = df_temp.iloc[-1]['from']\n",
    "data_query = {\"from\": min_date, \"to\": max_date}\n",
    "retrieved_data = hakom.repositories.timeseries.data.get(created, data_query)\n",
    "\n",
    "ret_df = hakom.pandas_interop.to_pandas_dataframe(retrieved_data)\n",
    "ret_df.plot(y=['Value'])"
   ]
  }
 ],
 "metadata": {
  "interpreter": {
   "hash": "1824e84b8ac6b85d1913a2956db397320de8d4a1ee39a1f1d1ad7d271a83e50e"
  },
  "kernelspec": {
   "display_name": "Python 3.9.7 ('test-environment')",
   "language": "python",
   "name": "python3"
  },
  "language_info": {
   "codemirror_mode": {
    "name": "ipython",
    "version": 3
   },
   "file_extension": ".py",
   "mimetype": "text/x-python",
   "name": "python",
   "nbconvert_exporter": "python",
   "pygments_lexer": "ipython3",
   "version": "3.9.7"
  },
  "orig_nbformat": 4
 },
 "nbformat": 4,
 "nbformat_minor": 2
}
