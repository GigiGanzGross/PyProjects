{
 "cells": [
  {
   "cell_type": "code",
   "execution_count": 17,
   "metadata": {},
   "outputs": [],
   "source": [
    "import hakom\n",
    "import json\n",
    "import pandas as pd\n",
    "\n",
    "from sklearn.compose import ColumnTransformer\n",
    "from sklearn.preprocessing import (\n",
    "    OneHotEncoder,\n",
    ")\n",
    "from sklearn.model_selection import train_test_split\n",
    "from sklearn.linear_model import LinearRegression\n",
    "from sklearn.kernel_ridge import KernelRidge\n",
    "\n",
    "import matplotlib.pyplot as plt\n",
    "import numpy as np\n",
    "import getpass\n",
    "import darts"
   ]
  },
  {
   "cell_type": "code",
   "execution_count": 8,
   "metadata": {},
   "outputs": [],
   "source": [
    "api_pwd = getpass.getpass()"
   ]
  },
  {
   "cell_type": "code",
   "execution_count": 10,
   "metadata": {},
   "outputs": [],
   "source": [
    "auth_params = hakom.authorization.AuthParams(\n",
    "    username = 'aeneas',\n",
    "    password = api_pwd,\n",
    ")\n",
    "\n",
    "service_config = hakom.service.ServiceConfig(\n",
    "    base_url=\"https://fehostedwebapp.azurewebsites.net/MAIN/api/\",\n",
    "    auth_params=auth_params,\n",
    "    repository='ZAMS'\n",
    ")\n",
    "\n",
    "hakom.initialize(service_config)"
   ]
  },
  {
   "cell_type": "code",
   "execution_count": 14,
   "metadata": {},
   "outputs": [
    {
     "data": {
      "text/plain": [
       "{'Name': 'HAKOM WebTSM Services',\n",
       " 'Description': 'Time Series Management Webservices',\n",
       " 'Version': '3.9.2.1-rc+0'}"
      ]
     },
     "execution_count": 14,
     "metadata": {},
     "output_type": "execute_result"
    }
   ],
   "source": [
    "hakom.get_config().check_health()\n",
    "hakom.versioninfo.get()"
   ]
  },
  {
   "cell_type": "markdown",
   "metadata": {},
   "source": [
    "Check if really logged in"
   ]
  },
  {
   "cell_type": "code",
   "execution_count": 15,
   "metadata": {},
   "outputs": [
    {
     "data": {
      "text/html": [
       "<div>\n",
       "<style scoped>\n",
       "    .dataframe tbody tr th:only-of-type {\n",
       "        vertical-align: middle;\n",
       "    }\n",
       "\n",
       "    .dataframe tbody tr th {\n",
       "        vertical-align: top;\n",
       "    }\n",
       "\n",
       "    .dataframe thead th {\n",
       "        text-align: right;\n",
       "    }\n",
       "</style>\n",
       "<table border=\"1\" class=\"dataframe\">\n",
       "  <thead>\n",
       "    <tr style=\"text-align: right;\">\n",
       "      <th></th>\n",
       "      <th>ID</th>\n",
       "      <th>Name</th>\n",
       "      <th>Factor</th>\n",
       "      <th>Offset</th>\n",
       "      <th>BaseUnit</th>\n",
       "      <th>Aggregation</th>\n",
       "      <th>IntegralUnit</th>\n",
       "      <th>Description</th>\n",
       "      <th>Category</th>\n",
       "    </tr>\n",
       "  </thead>\n",
       "  <tbody>\n",
       "    <tr>\n",
       "      <th>0</th>\n",
       "      <td>1</td>\n",
       "      <td>W</td>\n",
       "      <td>1.0</td>\n",
       "      <td>0.0</td>\n",
       "      <td></td>\n",
       "      <td>AVG</td>\n",
       "      <td>Wh</td>\n",
       "      <td>None</td>\n",
       "      <td>None</td>\n",
       "    </tr>\n",
       "    <tr>\n",
       "      <th>1</th>\n",
       "      <td>2</td>\n",
       "      <td>kW</td>\n",
       "      <td>1000.0</td>\n",
       "      <td>0.0</td>\n",
       "      <td>W</td>\n",
       "      <td>AVG</td>\n",
       "      <td>kWh</td>\n",
       "      <td>None</td>\n",
       "      <td>None</td>\n",
       "    </tr>\n",
       "    <tr>\n",
       "      <th>2</th>\n",
       "      <td>3</td>\n",
       "      <td>kWh/h</td>\n",
       "      <td>1000.0</td>\n",
       "      <td>0.0</td>\n",
       "      <td>W</td>\n",
       "      <td>AVG</td>\n",
       "      <td>kWh</td>\n",
       "      <td>None</td>\n",
       "      <td>None</td>\n",
       "    </tr>\n",
       "    <tr>\n",
       "      <th>3</th>\n",
       "      <td>4</td>\n",
       "      <td>MW</td>\n",
       "      <td>1000000.0</td>\n",
       "      <td>0.0</td>\n",
       "      <td>W</td>\n",
       "      <td>AVG</td>\n",
       "      <td>MWh</td>\n",
       "      <td>None</td>\n",
       "      <td>None</td>\n",
       "    </tr>\n",
       "    <tr>\n",
       "      <th>4</th>\n",
       "      <td>5</td>\n",
       "      <td>MWh/h</td>\n",
       "      <td>1000000.0</td>\n",
       "      <td>0.0</td>\n",
       "      <td>W</td>\n",
       "      <td>AVG</td>\n",
       "      <td>MWh</td>\n",
       "      <td>None</td>\n",
       "      <td>None</td>\n",
       "    </tr>\n",
       "  </tbody>\n",
       "</table>\n",
       "</div>"
      ],
      "text/plain": [
       "   ID   Name     Factor  Offset BaseUnit Aggregation IntegralUnit Description  \\\n",
       "0   1      W        1.0     0.0                  AVG           Wh        None   \n",
       "1   2     kW     1000.0     0.0        W         AVG          kWh        None   \n",
       "2   3  kWh/h     1000.0     0.0        W         AVG          kWh        None   \n",
       "3   4     MW  1000000.0     0.0        W         AVG          MWh        None   \n",
       "4   5  MWh/h  1000000.0     0.0        W         AVG          MWh        None   \n",
       "\n",
       "  Category  \n",
       "0     None  \n",
       "1     None  \n",
       "2     None  \n",
       "3     None  \n",
       "4     None  "
      ]
     },
     "execution_count": 15,
     "metadata": {},
     "output_type": "execute_result"
    }
   ],
   "source": [
    "units = pd.DataFrame.from_records(hakom.repositories.units.find())\n",
    "units.head()"
   ]
  },
  {
   "cell_type": "markdown",
   "metadata": {},
   "source": [
    "# Lets load some data\n",
    "are we?!"
   ]
  },
  {
   "cell_type": "code",
   "execution_count": 18,
   "metadata": {},
   "outputs": [],
   "source": [
    "# time series name\n",
    "name = \"Carga Sudeste/Centro-Oeste\"\n",
    "\n",
    "# find series\n",
    "definitions = hakom.repositories.timeseries.find({\"Name\": name})"
   ]
  },
  {
   "cell_type": "code",
   "execution_count": 20,
   "metadata": {},
   "outputs": [
    {
     "ename": "PathNotFoundError",
     "evalue": "Could not found a service at the provided url! Or the given object is incorrect. Please review your service settings!",
     "output_type": "error",
     "traceback": [
      "\u001b[1;31m---------------------------------------------------------------------------\u001b[0m",
      "\u001b[1;31mPathNotFoundError\u001b[0m                         Traceback (most recent call last)",
      "\u001b[1;32mUntitled-1.ipynb Cell 10'\u001b[0m in \u001b[0;36m<cell line: 7>\u001b[1;34m()\u001b[0m\n\u001b[0;32m      <a href='vscode-notebook-cell:Untitled-1.ipynb?jupyter-notebook#ch0000009untitled?line=0'>1</a>\u001b[0m \u001b[39m# get training data\u001b[39;00m\n\u001b[0;32m      <a href='vscode-notebook-cell:Untitled-1.ipynb?jupyter-notebook#ch0000009untitled?line=1'>2</a>\u001b[0m traindata_query \u001b[39m=\u001b[39m {\n\u001b[0;32m      <a href='vscode-notebook-cell:Untitled-1.ipynb?jupyter-notebook#ch0000009untitled?line=2'>3</a>\u001b[0m     \u001b[39m\"\u001b[39m\u001b[39mfrom\u001b[39m\u001b[39m\"\u001b[39m: \u001b[39m\"\u001b[39m\u001b[39m2018-12-31T23:00:00Z\u001b[39m\u001b[39m\"\u001b[39m,\n\u001b[0;32m      <a href='vscode-notebook-cell:Untitled-1.ipynb?jupyter-notebook#ch0000009untitled?line=3'>4</a>\u001b[0m     \u001b[39m\"\u001b[39m\u001b[39mto\u001b[39m\u001b[39m\"\u001b[39m: \u001b[39m\"\u001b[39m\u001b[39m2020-12-31T23:00:00Z\u001b[39m\u001b[39m\"\u001b[39m,\n\u001b[0;32m      <a href='vscode-notebook-cell:Untitled-1.ipynb?jupyter-notebook#ch0000009untitled?line=4'>5</a>\u001b[0m     \u001b[39m\"\u001b[39m\u001b[39minterval\u001b[39m\u001b[39m\"\u001b[39m: \u001b[39m\"\u001b[39m\u001b[39m3\u001b[39m\u001b[39m\"\u001b[39m,\n\u001b[0;32m      <a href='vscode-notebook-cell:Untitled-1.ipynb?jupyter-notebook#ch0000009untitled?line=5'>6</a>\u001b[0m }\n\u001b[1;32m----> <a href='vscode-notebook-cell:Untitled-1.ipynb?jupyter-notebook#ch0000009untitled?line=6'>7</a>\u001b[0m traindata \u001b[39m=\u001b[39m hakom\u001b[39m.\u001b[39;49mrepositories\u001b[39m.\u001b[39;49mtimeseries\u001b[39m.\u001b[39;49mdata\u001b[39m.\u001b[39;49mget(name, traindata_query)\n",
      "File \u001b[1;32m~\\Anaconda3\\envs\\test-environment\\lib\\site-packages\\hakom\\repositories\\timeseries\\data\\__init__.py:278\u001b[0m, in \u001b[0;36mget\u001b[1;34m(timeseries, query_params, format_options, service_config, request_id)\u001b[0m\n\u001b[0;32m    <a href='file:///c%3A/Users/Aeneas/Anaconda3/envs/test-environment/lib/site-packages/hakom/repositories/timeseries/data/__init__.py?line=271'>272</a>\u001b[0m result,errors,r_id\u001b[39m=\u001b[39mloop\u001b[39m.\u001b[39mrun_until_complete(asyncio\u001b[39m.\u001b[39mgather(\n\u001b[0;32m    <a href='file:///c%3A/Users/Aeneas/Anaconda3/envs/test-environment/lib/site-packages/hakom/repositories/timeseries/data/__init__.py?line=272'>273</a>\u001b[0m     _get_time_series_data_base_async(\n\u001b[0;32m    <a href='file:///c%3A/Users/Aeneas/Anaconda3/envs/test-environment/lib/site-packages/hakom/repositories/timeseries/data/__init__.py?line=273'>274</a>\u001b[0m         timeseries, query_params, format_options, \n\u001b[0;32m    <a href='file:///c%3A/Users/Aeneas/Anaconda3/envs/test-environment/lib/site-packages/hakom/repositories/timeseries/data/__init__.py?line=274'>275</a>\u001b[0m         service_config, request_id)))[\u001b[39m0\u001b[39m]\n\u001b[0;32m    <a href='file:///c%3A/Users/Aeneas/Anaconda3/envs/test-environment/lib/site-packages/hakom/repositories/timeseries/data/__init__.py?line=276'>277</a>\u001b[0m checkError \u001b[39m=\u001b[39m hakom\u001b[39m.\u001b[39merrorhandling\u001b[39m.\u001b[39merror_to_exception(errors)\n\u001b[1;32m--> <a href='file:///c%3A/Users/Aeneas/Anaconda3/envs/test-environment/lib/site-packages/hakom/repositories/timeseries/data/__init__.py?line=277'>278</a>\u001b[0m \u001b[39mif\u001b[39;00m checkError: \u001b[39mraise\u001b[39;00m checkError\n\u001b[0;32m    <a href='file:///c%3A/Users/Aeneas/Anaconda3/envs/test-environment/lib/site-packages/hakom/repositories/timeseries/data/__init__.py?line=279'>280</a>\u001b[0m \u001b[39mif\u001b[39;00m r_id \u001b[39mis\u001b[39;00m \u001b[39mnot\u001b[39;00m \u001b[39mNone\u001b[39;00m:\n\u001b[0;32m    <a href='file:///c%3A/Users/Aeneas/Anaconda3/envs/test-environment/lib/site-packages/hakom/repositories/timeseries/data/__init__.py?line=280'>281</a>\u001b[0m     \u001b[39mreturn\u001b[39;00m result,r_id\n",
      "    \u001b[1;31m[... skipping hidden 1 frame]\u001b[0m\n",
      "\u001b[1;32mUntitled-1.ipynb Cell 10'\u001b[0m in \u001b[0;36m<cell line: 7>\u001b[1;34m()\u001b[0m\n\u001b[0;32m      <a href='vscode-notebook-cell:Untitled-1.ipynb?jupyter-notebook#ch0000009untitled?line=0'>1</a>\u001b[0m \u001b[39m# get training data\u001b[39;00m\n\u001b[0;32m      <a href='vscode-notebook-cell:Untitled-1.ipynb?jupyter-notebook#ch0000009untitled?line=1'>2</a>\u001b[0m traindata_query \u001b[39m=\u001b[39m {\n\u001b[0;32m      <a href='vscode-notebook-cell:Untitled-1.ipynb?jupyter-notebook#ch0000009untitled?line=2'>3</a>\u001b[0m     \u001b[39m\"\u001b[39m\u001b[39mfrom\u001b[39m\u001b[39m\"\u001b[39m: \u001b[39m\"\u001b[39m\u001b[39m2018-12-31T23:00:00Z\u001b[39m\u001b[39m\"\u001b[39m,\n\u001b[0;32m      <a href='vscode-notebook-cell:Untitled-1.ipynb?jupyter-notebook#ch0000009untitled?line=3'>4</a>\u001b[0m     \u001b[39m\"\u001b[39m\u001b[39mto\u001b[39m\u001b[39m\"\u001b[39m: \u001b[39m\"\u001b[39m\u001b[39m2020-12-31T23:00:00Z\u001b[39m\u001b[39m\"\u001b[39m,\n\u001b[0;32m      <a href='vscode-notebook-cell:Untitled-1.ipynb?jupyter-notebook#ch0000009untitled?line=4'>5</a>\u001b[0m     \u001b[39m\"\u001b[39m\u001b[39minterval\u001b[39m\u001b[39m\"\u001b[39m: \u001b[39m\"\u001b[39m\u001b[39m2\u001b[39m\u001b[39m\"\u001b[39m,\n\u001b[0;32m      <a href='vscode-notebook-cell:Untitled-1.ipynb?jupyter-notebook#ch0000009untitled?line=5'>6</a>\u001b[0m }\n\u001b[1;32m----> <a href='vscode-notebook-cell:Untitled-1.ipynb?jupyter-notebook#ch0000009untitled?line=6'>7</a>\u001b[0m traindata \u001b[39m=\u001b[39m hakom\u001b[39m.\u001b[39;49mrepositories\u001b[39m.\u001b[39;49mtimeseries\u001b[39m.\u001b[39;49mdata\u001b[39m.\u001b[39;49mget(name, traindata_query)\n",
      "File \u001b[1;32m~\\Anaconda3\\envs\\test-environment\\lib\\site-packages\\hakom\\repositories\\timeseries\\data\\__init__.py:278\u001b[0m, in \u001b[0;36mget\u001b[1;34m(timeseries, query_params, format_options, service_config, request_id)\u001b[0m\n\u001b[0;32m    <a href='file:///c%3A/Users/Aeneas/Anaconda3/envs/test-environment/lib/site-packages/hakom/repositories/timeseries/data/__init__.py?line=271'>272</a>\u001b[0m result,errors,r_id\u001b[39m=\u001b[39mloop\u001b[39m.\u001b[39mrun_until_complete(asyncio\u001b[39m.\u001b[39mgather(\n\u001b[0;32m    <a href='file:///c%3A/Users/Aeneas/Anaconda3/envs/test-environment/lib/site-packages/hakom/repositories/timeseries/data/__init__.py?line=272'>273</a>\u001b[0m     _get_time_series_data_base_async(\n\u001b[0;32m    <a href='file:///c%3A/Users/Aeneas/Anaconda3/envs/test-environment/lib/site-packages/hakom/repositories/timeseries/data/__init__.py?line=273'>274</a>\u001b[0m         timeseries, query_params, format_options, \n\u001b[0;32m    <a href='file:///c%3A/Users/Aeneas/Anaconda3/envs/test-environment/lib/site-packages/hakom/repositories/timeseries/data/__init__.py?line=274'>275</a>\u001b[0m         service_config, request_id)))[\u001b[39m0\u001b[39m]\n\u001b[0;32m    <a href='file:///c%3A/Users/Aeneas/Anaconda3/envs/test-environment/lib/site-packages/hakom/repositories/timeseries/data/__init__.py?line=276'>277</a>\u001b[0m checkError \u001b[39m=\u001b[39m hakom\u001b[39m.\u001b[39merrorhandling\u001b[39m.\u001b[39merror_to_exception(errors)\n\u001b[1;32m--> <a href='file:///c%3A/Users/Aeneas/Anaconda3/envs/test-environment/lib/site-packages/hakom/repositories/timeseries/data/__init__.py?line=277'>278</a>\u001b[0m \u001b[39mif\u001b[39;00m checkError: \u001b[39mraise\u001b[39;00m checkError\n\u001b[0;32m    <a href='file:///c%3A/Users/Aeneas/Anaconda3/envs/test-environment/lib/site-packages/hakom/repositories/timeseries/data/__init__.py?line=279'>280</a>\u001b[0m \u001b[39mif\u001b[39;00m r_id \u001b[39mis\u001b[39;00m \u001b[39mnot\u001b[39;00m \u001b[39mNone\u001b[39;00m:\n\u001b[0;32m    <a href='file:///c%3A/Users/Aeneas/Anaconda3/envs/test-environment/lib/site-packages/hakom/repositories/timeseries/data/__init__.py?line=280'>281</a>\u001b[0m     \u001b[39mreturn\u001b[39;00m result,r_id\n",
      "\u001b[1;31mPathNotFoundError\u001b[0m: Could not found a service at the provided url! Or the given object is incorrect. Please review your service settings!"
     ]
    }
   ],
   "source": [
    "# get training data\n",
    "traindata_query = {\n",
    "    \"from\": \"2018-12-31T23:00:00Z\",\n",
    "    \"to\": \"2020-12-31T23:00:00Z\",\n",
    "    \"interval\": \"3\",\n",
    "}\n",
    "traindata = hakom.repositories.timeseries.data.get(name, traindata_query)"
   ]
  },
  {
   "cell_type": "code",
   "execution_count": 21,
   "metadata": {},
   "outputs": [
    {
     "ename": "PathNotFoundError",
     "evalue": "Could not found a service at the provided url! Or the given object is incorrect. Please review your service settings!",
     "output_type": "error",
     "traceback": [
      "\u001b[1;31m---------------------------------------------------------------------------\u001b[0m",
      "\u001b[1;31mPathNotFoundError\u001b[0m                         Traceback (most recent call last)",
      "\u001b[1;32mUntitled-1.ipynb Cell 10'\u001b[0m in \u001b[0;36m<cell line: 27>\u001b[1;34m()\u001b[0m\n\u001b[0;32m     <a href='vscode-notebook-cell:Untitled-1.ipynb?jupyter-notebook#ch0000010untitled?line=23'>24</a>\u001b[0m query[\u001b[39m\"\u001b[39m\u001b[39minterval\u001b[39m\u001b[39m\"\u001b[39m] \u001b[39m=\u001b[39m \u001b[39m\"\u001b[39m\u001b[39mHour\u001b[39m\u001b[39m\"\u001b[39m\n\u001b[0;32m     <a href='vscode-notebook-cell:Untitled-1.ipynb?jupyter-notebook#ch0000010untitled?line=25'>26</a>\u001b[0m \u001b[39m# get sample data\u001b[39;00m\n\u001b[1;32m---> <a href='vscode-notebook-cell:Untitled-1.ipynb?jupyter-notebook#ch0000010untitled?line=26'>27</a>\u001b[0m timeseries_data \u001b[39m=\u001b[39m hakom\u001b[39m.\u001b[39;49mrepositories\u001b[39m.\u001b[39;49mtimeseries\u001b[39m.\u001b[39;49mdata\u001b[39m.\u001b[39;49mget(\u001b[39m\"\u001b[39;49m\u001b[39mCarga Sudeste/Centro-Oeste\u001b[39;49m\u001b[39m\"\u001b[39;49m, query)\n\u001b[0;32m     <a href='vscode-notebook-cell:Untitled-1.ipynb?jupyter-notebook#ch0000010untitled?line=28'>29</a>\u001b[0m \u001b[39m# load data into dataframe\u001b[39;00m\n\u001b[0;32m     <a href='vscode-notebook-cell:Untitled-1.ipynb?jupyter-notebook#ch0000010untitled?line=29'>30</a>\u001b[0m df \u001b[39m=\u001b[39m pd\u001b[39m.\u001b[39mDataFrame(timeseries_data[\u001b[39m\"\u001b[39m\u001b[39mData\u001b[39m\u001b[39m\"\u001b[39m])\n",
      "File \u001b[1;32m~\\Anaconda3\\envs\\test-environment\\lib\\site-packages\\hakom\\repositories\\timeseries\\data\\__init__.py:278\u001b[0m, in \u001b[0;36mget\u001b[1;34m(timeseries, query_params, format_options, service_config, request_id)\u001b[0m\n\u001b[0;32m    <a href='file:///c%3A/Users/Aeneas/Anaconda3/envs/test-environment/lib/site-packages/hakom/repositories/timeseries/data/__init__.py?line=271'>272</a>\u001b[0m result,errors,r_id\u001b[39m=\u001b[39mloop\u001b[39m.\u001b[39mrun_until_complete(asyncio\u001b[39m.\u001b[39mgather(\n\u001b[0;32m    <a href='file:///c%3A/Users/Aeneas/Anaconda3/envs/test-environment/lib/site-packages/hakom/repositories/timeseries/data/__init__.py?line=272'>273</a>\u001b[0m     _get_time_series_data_base_async(\n\u001b[0;32m    <a href='file:///c%3A/Users/Aeneas/Anaconda3/envs/test-environment/lib/site-packages/hakom/repositories/timeseries/data/__init__.py?line=273'>274</a>\u001b[0m         timeseries, query_params, format_options, \n\u001b[0;32m    <a href='file:///c%3A/Users/Aeneas/Anaconda3/envs/test-environment/lib/site-packages/hakom/repositories/timeseries/data/__init__.py?line=274'>275</a>\u001b[0m         service_config, request_id)))[\u001b[39m0\u001b[39m]\n\u001b[0;32m    <a href='file:///c%3A/Users/Aeneas/Anaconda3/envs/test-environment/lib/site-packages/hakom/repositories/timeseries/data/__init__.py?line=276'>277</a>\u001b[0m checkError \u001b[39m=\u001b[39m hakom\u001b[39m.\u001b[39merrorhandling\u001b[39m.\u001b[39merror_to_exception(errors)\n\u001b[1;32m--> <a href='file:///c%3A/Users/Aeneas/Anaconda3/envs/test-environment/lib/site-packages/hakom/repositories/timeseries/data/__init__.py?line=277'>278</a>\u001b[0m \u001b[39mif\u001b[39;00m checkError: \u001b[39mraise\u001b[39;00m checkError\n\u001b[0;32m    <a href='file:///c%3A/Users/Aeneas/Anaconda3/envs/test-environment/lib/site-packages/hakom/repositories/timeseries/data/__init__.py?line=279'>280</a>\u001b[0m \u001b[39mif\u001b[39;00m r_id \u001b[39mis\u001b[39;00m \u001b[39mnot\u001b[39;00m \u001b[39mNone\u001b[39;00m:\n\u001b[0;32m    <a href='file:///c%3A/Users/Aeneas/Anaconda3/envs/test-environment/lib/site-packages/hakom/repositories/timeseries/data/__init__.py?line=280'>281</a>\u001b[0m     \u001b[39mreturn\u001b[39;00m result,r_id\n",
      "    \u001b[1;31m[... skipping hidden 1 frame]\u001b[0m\n",
      "\u001b[1;32mUntitled-1.ipynb Cell 9'\u001b[0m in \u001b[0;36m<cell line: 7>\u001b[1;34m()\u001b[0m\n\u001b[0;32m      <a href='vscode-notebook-cell:Untitled-1.ipynb?jupyter-notebook#ch0000009untitled?line=0'>1</a>\u001b[0m \u001b[39m# get training data\u001b[39;00m\n\u001b[0;32m      <a href='vscode-notebook-cell:Untitled-1.ipynb?jupyter-notebook#ch0000009untitled?line=1'>2</a>\u001b[0m traindata_query \u001b[39m=\u001b[39m {\n\u001b[0;32m      <a href='vscode-notebook-cell:Untitled-1.ipynb?jupyter-notebook#ch0000009untitled?line=2'>3</a>\u001b[0m     \u001b[39m\"\u001b[39m\u001b[39mfrom\u001b[39m\u001b[39m\"\u001b[39m: \u001b[39m\"\u001b[39m\u001b[39m2018-12-31T23:00:00Z\u001b[39m\u001b[39m\"\u001b[39m,\n\u001b[0;32m      <a href='vscode-notebook-cell:Untitled-1.ipynb?jupyter-notebook#ch0000009untitled?line=3'>4</a>\u001b[0m     \u001b[39m\"\u001b[39m\u001b[39mto\u001b[39m\u001b[39m\"\u001b[39m: \u001b[39m\"\u001b[39m\u001b[39m2020-12-31T23:00:00Z\u001b[39m\u001b[39m\"\u001b[39m,\n\u001b[0;32m      <a href='vscode-notebook-cell:Untitled-1.ipynb?jupyter-notebook#ch0000009untitled?line=4'>5</a>\u001b[0m     \u001b[39m\"\u001b[39m\u001b[39minterval\u001b[39m\u001b[39m\"\u001b[39m: \u001b[39m\"\u001b[39m\u001b[39m3\u001b[39m\u001b[39m\"\u001b[39m,\n\u001b[0;32m      <a href='vscode-notebook-cell:Untitled-1.ipynb?jupyter-notebook#ch0000009untitled?line=5'>6</a>\u001b[0m }\n\u001b[1;32m----> <a href='vscode-notebook-cell:Untitled-1.ipynb?jupyter-notebook#ch0000009untitled?line=6'>7</a>\u001b[0m traindata \u001b[39m=\u001b[39m hakom\u001b[39m.\u001b[39;49mrepositories\u001b[39m.\u001b[39;49mtimeseries\u001b[39m.\u001b[39;49mdata\u001b[39m.\u001b[39;49mget(name, traindata_query)\n",
      "File \u001b[1;32m~\\Anaconda3\\envs\\test-environment\\lib\\site-packages\\hakom\\repositories\\timeseries\\data\\__init__.py:278\u001b[0m, in \u001b[0;36mget\u001b[1;34m(timeseries, query_params, format_options, service_config, request_id)\u001b[0m\n\u001b[0;32m    <a href='file:///c%3A/Users/Aeneas/Anaconda3/envs/test-environment/lib/site-packages/hakom/repositories/timeseries/data/__init__.py?line=271'>272</a>\u001b[0m result,errors,r_id\u001b[39m=\u001b[39mloop\u001b[39m.\u001b[39mrun_until_complete(asyncio\u001b[39m.\u001b[39mgather(\n\u001b[0;32m    <a href='file:///c%3A/Users/Aeneas/Anaconda3/envs/test-environment/lib/site-packages/hakom/repositories/timeseries/data/__init__.py?line=272'>273</a>\u001b[0m     _get_time_series_data_base_async(\n\u001b[0;32m    <a href='file:///c%3A/Users/Aeneas/Anaconda3/envs/test-environment/lib/site-packages/hakom/repositories/timeseries/data/__init__.py?line=273'>274</a>\u001b[0m         timeseries, query_params, format_options, \n\u001b[0;32m    <a href='file:///c%3A/Users/Aeneas/Anaconda3/envs/test-environment/lib/site-packages/hakom/repositories/timeseries/data/__init__.py?line=274'>275</a>\u001b[0m         service_config, request_id)))[\u001b[39m0\u001b[39m]\n\u001b[0;32m    <a href='file:///c%3A/Users/Aeneas/Anaconda3/envs/test-environment/lib/site-packages/hakom/repositories/timeseries/data/__init__.py?line=276'>277</a>\u001b[0m checkError \u001b[39m=\u001b[39m hakom\u001b[39m.\u001b[39merrorhandling\u001b[39m.\u001b[39merror_to_exception(errors)\n\u001b[1;32m--> <a href='file:///c%3A/Users/Aeneas/Anaconda3/envs/test-environment/lib/site-packages/hakom/repositories/timeseries/data/__init__.py?line=277'>278</a>\u001b[0m \u001b[39mif\u001b[39;00m checkError: \u001b[39mraise\u001b[39;00m checkError\n\u001b[0;32m    <a href='file:///c%3A/Users/Aeneas/Anaconda3/envs/test-environment/lib/site-packages/hakom/repositories/timeseries/data/__init__.py?line=279'>280</a>\u001b[0m \u001b[39mif\u001b[39;00m r_id \u001b[39mis\u001b[39;00m \u001b[39mnot\u001b[39;00m \u001b[39mNone\u001b[39;00m:\n\u001b[0;32m    <a href='file:///c%3A/Users/Aeneas/Anaconda3/envs/test-environment/lib/site-packages/hakom/repositories/timeseries/data/__init__.py?line=280'>281</a>\u001b[0m     \u001b[39mreturn\u001b[39;00m result,r_id\n",
      "    \u001b[1;31m[... skipping hidden 1 frame]\u001b[0m\n",
      "\u001b[1;32mUntitled-1.ipynb Cell 9'\u001b[0m in \u001b[0;36m<cell line: 7>\u001b[1;34m()\u001b[0m\n\u001b[0;32m      <a href='vscode-notebook-cell:Untitled-1.ipynb?jupyter-notebook#ch0000009untitled?line=0'>1</a>\u001b[0m \u001b[39m# get training data\u001b[39;00m\n\u001b[0;32m      <a href='vscode-notebook-cell:Untitled-1.ipynb?jupyter-notebook#ch0000009untitled?line=1'>2</a>\u001b[0m traindata_query \u001b[39m=\u001b[39m {\n\u001b[0;32m      <a href='vscode-notebook-cell:Untitled-1.ipynb?jupyter-notebook#ch0000009untitled?line=2'>3</a>\u001b[0m     \u001b[39m\"\u001b[39m\u001b[39mfrom\u001b[39m\u001b[39m\"\u001b[39m: \u001b[39m\"\u001b[39m\u001b[39m2018-12-31T23:00:00Z\u001b[39m\u001b[39m\"\u001b[39m,\n\u001b[0;32m      <a href='vscode-notebook-cell:Untitled-1.ipynb?jupyter-notebook#ch0000009untitled?line=3'>4</a>\u001b[0m     \u001b[39m\"\u001b[39m\u001b[39mto\u001b[39m\u001b[39m\"\u001b[39m: \u001b[39m\"\u001b[39m\u001b[39m2020-12-31T23:00:00Z\u001b[39m\u001b[39m\"\u001b[39m,\n\u001b[0;32m      <a href='vscode-notebook-cell:Untitled-1.ipynb?jupyter-notebook#ch0000009untitled?line=4'>5</a>\u001b[0m     \u001b[39m\"\u001b[39m\u001b[39minterval\u001b[39m\u001b[39m\"\u001b[39m: \u001b[39m\"\u001b[39m\u001b[39m2\u001b[39m\u001b[39m\"\u001b[39m,\n\u001b[0;32m      <a href='vscode-notebook-cell:Untitled-1.ipynb?jupyter-notebook#ch0000009untitled?line=5'>6</a>\u001b[0m }\n\u001b[1;32m----> <a href='vscode-notebook-cell:Untitled-1.ipynb?jupyter-notebook#ch0000009untitled?line=6'>7</a>\u001b[0m traindata \u001b[39m=\u001b[39m hakom\u001b[39m.\u001b[39;49mrepositories\u001b[39m.\u001b[39;49mtimeseries\u001b[39m.\u001b[39;49mdata\u001b[39m.\u001b[39;49mget(name, traindata_query)\n",
      "File \u001b[1;32m~\\Anaconda3\\envs\\test-environment\\lib\\site-packages\\hakom\\repositories\\timeseries\\data\\__init__.py:278\u001b[0m, in \u001b[0;36mget\u001b[1;34m(timeseries, query_params, format_options, service_config, request_id)\u001b[0m\n\u001b[0;32m    <a href='file:///c%3A/Users/Aeneas/Anaconda3/envs/test-environment/lib/site-packages/hakom/repositories/timeseries/data/__init__.py?line=271'>272</a>\u001b[0m result,errors,r_id\u001b[39m=\u001b[39mloop\u001b[39m.\u001b[39mrun_until_complete(asyncio\u001b[39m.\u001b[39mgather(\n\u001b[0;32m    <a href='file:///c%3A/Users/Aeneas/Anaconda3/envs/test-environment/lib/site-packages/hakom/repositories/timeseries/data/__init__.py?line=272'>273</a>\u001b[0m     _get_time_series_data_base_async(\n\u001b[0;32m    <a href='file:///c%3A/Users/Aeneas/Anaconda3/envs/test-environment/lib/site-packages/hakom/repositories/timeseries/data/__init__.py?line=273'>274</a>\u001b[0m         timeseries, query_params, format_options, \n\u001b[0;32m    <a href='file:///c%3A/Users/Aeneas/Anaconda3/envs/test-environment/lib/site-packages/hakom/repositories/timeseries/data/__init__.py?line=274'>275</a>\u001b[0m         service_config, request_id)))[\u001b[39m0\u001b[39m]\n\u001b[0;32m    <a href='file:///c%3A/Users/Aeneas/Anaconda3/envs/test-environment/lib/site-packages/hakom/repositories/timeseries/data/__init__.py?line=276'>277</a>\u001b[0m checkError \u001b[39m=\u001b[39m hakom\u001b[39m.\u001b[39merrorhandling\u001b[39m.\u001b[39merror_to_exception(errors)\n\u001b[1;32m--> <a href='file:///c%3A/Users/Aeneas/Anaconda3/envs/test-environment/lib/site-packages/hakom/repositories/timeseries/data/__init__.py?line=277'>278</a>\u001b[0m \u001b[39mif\u001b[39;00m checkError: \u001b[39mraise\u001b[39;00m checkError\n\u001b[0;32m    <a href='file:///c%3A/Users/Aeneas/Anaconda3/envs/test-environment/lib/site-packages/hakom/repositories/timeseries/data/__init__.py?line=279'>280</a>\u001b[0m \u001b[39mif\u001b[39;00m r_id \u001b[39mis\u001b[39;00m \u001b[39mnot\u001b[39;00m \u001b[39mNone\u001b[39;00m:\n\u001b[0;32m    <a href='file:///c%3A/Users/Aeneas/Anaconda3/envs/test-environment/lib/site-packages/hakom/repositories/timeseries/data/__init__.py?line=280'>281</a>\u001b[0m     \u001b[39mreturn\u001b[39;00m result,r_id\n",
      "\u001b[1;31mPathNotFoundError\u001b[0m: Could not found a service at the provided url! Or the given object is incorrect. Please review your service settings!"
     ]
    }
   ],
   "source": [
    "# =============================================================================\n",
    "# DataFrame to Epoch Data\n",
    "# =============================================================================\n",
    "def dataFrame_to_epochData_converter(dataFrame, to_milliseconds=True):\n",
    "    if df.From.dtype == object:\n",
    "        df.From = pd.to_datetime(df.From)\n",
    "    epoch_factor = 1000 if to_milliseconds else 1\n",
    "    data = [\n",
    "        (\n",
    "            hakom.repositories.timeseries.data.TimeSeriesDataItemTimeStamp(\n",
    "                int(row.From.timestamp()) * epoch_factor, row.Value, row.Flag\n",
    "            )\n",
    "        )\n",
    "        for index, row in dataFrame.iterrows()\n",
    "    ]\n",
    "    return data\n",
    "\n",
    "\n",
    "# lets try it\n",
    "# query for sample data\n",
    "query = {}\n",
    "query[\"from\"] = \"2019-06-30T22:00:00Z\"\n",
    "query[\"to\"] = \"2019-07-01T00:00:00Z\"\n",
    "query[\"interval\"] = \"Hour\"\n",
    "\n",
    "# get sample data\n",
    "timeseries_data = hakom.repositories.timeseries.data.get(\"Carga Sudeste/Centro-Oeste\", query)\n",
    "\n",
    "# load data into dataframe\n",
    "df = pd.DataFrame(timeseries_data[\"Data\"])\n",
    "\n",
    "# convert dataframe back to epoch data\n",
    "data = dataFrame_to_epochData_converter(df)"
   ]
  }
 ],
 "metadata": {
  "interpreter": {
   "hash": "41e84904cca14bb259c3547605712e33c009efcd0173d3ca06e06c22fe9bab7b"
  },
  "kernelspec": {
   "display_name": "Python 3.9.10 ('test-environment')",
   "language": "python",
   "name": "python3"
  },
  "language_info": {
   "codemirror_mode": {
    "name": "ipython",
    "version": 3
   },
   "file_extension": ".py",
   "mimetype": "text/x-python",
   "name": "python",
   "nbconvert_exporter": "python",
   "pygments_lexer": "ipython3",
   "version": "3.9.7"
  },
  "orig_nbformat": 4
 },
 "nbformat": 4,
 "nbformat_minor": 2
}
