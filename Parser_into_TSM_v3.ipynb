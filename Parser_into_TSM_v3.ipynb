{
 "cells": [
  {
   "cell_type": "code",
   "execution_count": 1,
   "metadata": {},
   "outputs": [],
   "source": [
    "# Import Libraries \n",
    "import hakom\n",
    "import json\n",
    "import matplotlib.pyplot as plt\n",
    "%matplotlib inline\n",
    "import numpy as np\n",
    "import getpass\n",
    "import urllib.request, json \n",
    "import pandas as pd\n",
    "from datetime import datetime, timedelta\n",
    "#teständerung"
   ]
  },
  {
   "cell_type": "markdown",
   "metadata": {},
   "source": [
    "## Initialize Python Connector"
   ]
  },
  {
   "cell_type": "code",
   "execution_count": 2,
   "metadata": {},
   "outputs": [],
   "source": [
    "api_pwd = getpass.getpass()\n"
   ]
  },
  {
   "cell_type": "code",
   "execution_count": null,
   "metadata": {},
   "outputs": [],
   "source": [
    "auth_params = hakom.authorization.AuthParams(\n",
    "    username = 'aeneas',\n",
    "    password = api_pwd,\n",
    ")\n",
    "\n",
    "service_config = hakom.service.ServiceConfig(\n",
    "    base_url=\"https://fehostedwebapp.azurewebsites.net/MAIN/api/\",\n",
    "    auth_params=auth_params,\n",
    "    repository='ZAMS'\n",
    ")\n",
    "\n",
    "hakom.initialize(service_config)\n"
   ]
  },
  {
   "cell_type": "markdown",
   "metadata": {},
   "source": [
    "## Define Functions"
   ]
  },
  {
   "cell_type": "code",
   "execution_count": 4,
   "metadata": {},
   "outputs": [],
   "source": [
    "def parse_inmet(station_str):\n",
    "    \"\"\" Takes inmet station number as input to download data from beginning of 2018 to end 2022. \n",
    "    Returns all data in a pandas-df.\n",
    "    Expexted shape is (43824, 27)  \"\"\"\n",
    "    data =[]\n",
    "    for year in range(2018,2023):\n",
    "        date_begin = '{}-01-01'.format(year)\n",
    "        date_end = '{}-12-31'.format(year)\n",
    "        url_str = 'https://apitempo.inmet.gov.br/estacao/{}/{}/{}'.format(date_begin, date_end, str(station_str))\n",
    "        print(url_str)\n",
    "      \n",
    "        with urllib.request.urlopen(url_str) as url:\n",
    "            temp = pd.read_json(url.read().decode())\n",
    "        data.append(temp)\n",
    "    data = pd.concat(data)\n",
    "    return data\n",
    "\n",
    "\n",
    "def timeframe_inmet(data):\n",
    "    \"\"\"Takes pandas-df, adds timestamp as index (hour). \n",
    "    Returns whole data frame or only the temperature column \"\"\"\n",
    "    data['timestamp'] = pd.to_datetime(data['DT_MEDICAO']) + pd.to_timedelta(data['HR_MEDICAO'] // 100, unit='h')\n",
    "    data = data.set_index('timestamp')\n",
    "    data = data.asfreq('h')\n",
    "    \n",
    "    df_temp = data[['TEM_INS']]\n",
    "    df_wdir = data[['VEN_DIR']]\n",
    "    df_wspeed = data[['VEN_VEL']]\n",
    "    return data, df_temp\n",
    "\n",
    "\n",
    "def inmet_TEMP_into_TSM_format(df):\n",
    "    \"\"\"Takes a temperature df and transforms it into HAKOM data format.\n",
    "    Returns HAKOM data format, ready to load into DB \"\"\"\n",
    "    df = hakom.pandas_interop.create_timestamp_colum_from_index(df)\n",
    "    df['flag'] = 9\n",
    "    one_hour_interval = hakom.types.Interval(hakom.types.Intervals.Hour)\n",
    "    unit_label = '°C'\n",
    "    tsdc = hakom.pandas_interop.to_hakom_tsdata_collection(\n",
    "        df.dropna(),\n",
    "        interval=one_hour_interval,\n",
    "        unit=unit_label,\n",
    "        dt_flag_value_order=[2,1,3]\n",
    "    )\n",
    "    return tsdc"
   ]
  },
  {
   "cell_type": "markdown",
   "metadata": {},
   "source": [
    "## Go for the loop"
   ]
  },
  {
   "cell_type": "code",
   "execution_count": null,
   "metadata": {},
   "outputs": [],
   "source": []
  }
 ],
 "metadata": {
  "interpreter": {
   "hash": "1824e84b8ac6b85d1913a2956db397320de8d4a1ee39a1f1d1ad7d271a83e50e"
  },
  "kernelspec": {
   "display_name": "Python 3.9.7 ('test-environment')",
   "language": "python",
   "name": "python3"
  },
  "language_info": {
   "codemirror_mode": {
    "name": "ipython",
    "version": 3
   },
   "file_extension": ".py",
   "mimetype": "text/x-python",
   "name": "python",
   "nbconvert_exporter": "python",
   "pygments_lexer": "ipython3",
   "version": "3.9.7"
  },
  "orig_nbformat": 4
 },
 "nbformat": 4,
 "nbformat_minor": 2
}
