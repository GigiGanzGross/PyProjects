{
 "cells": [
  {
   "cell_type": "code",
   "execution_count": 2,
   "metadata": {},
   "outputs": [],
   "source": [
    "# Import Libraries \n",
    "import hakom\n",
    "import json\n",
    "import matplotlib.pyplot as plt\n",
    "%matplotlib inline\n",
    "import numpy as np\n",
    "import getpass\n",
    "import urllib.request, json \n",
    "import pandas as pd\n",
    "from datetime import datetime, timedelta\n",
    "#teständerung"
   ]
  },
  {
   "cell_type": "markdown",
   "metadata": {},
   "source": [
    "## Initialize Python Connector"
   ]
  },
  {
   "cell_type": "code",
   "execution_count": 3,
   "metadata": {},
   "outputs": [],
   "source": [
    "api_pwd = getpass.getpass()\n"
   ]
  },
  {
   "cell_type": "code",
   "execution_count": 4,
   "metadata": {},
   "outputs": [],
   "source": [
    "auth_params = hakom.authorization.AuthParams(\n",
    "    username = 'aeneas',\n",
    "    password = api_pwd,\n",
    ")\n",
    "\n",
    "service_config = hakom.service.ServiceConfig(\n",
    "    base_url=\"https://fehostedwebapp.azurewebsites.net/MAIN/api/\",\n",
    "    auth_params=auth_params,\n",
    "    repository='ZAMS'\n",
    ")\n",
    "\n",
    "hakom.initialize(service_config)\n"
   ]
  },
  {
   "cell_type": "markdown",
   "metadata": {},
   "source": [
    "## Define Functions"
   ]
  },
  {
   "cell_type": "code",
   "execution_count": 5,
   "metadata": {},
   "outputs": [],
   "source": [
    "def parse_inmet(station_str):\n",
    "    \"\"\" Takes inmet station number as input to download data from beginning of 2018 to end 2022. \n",
    "    Returns all data in a pandas-df.\n",
    "    Expexted shape is (43824, 27)  \"\"\"\n",
    "    data =[]\n",
    "    for year in range(2018,2023):\n",
    "        date_begin = '{}-01-01'.format(year)\n",
    "        date_end = '{}-12-31'.format(year)\n",
    "        url_str = 'https://apitempo.inmet.gov.br/estacao/{}/{}/{}'.format(date_begin, date_end, str(station_str))\n",
    "        print(url_str)\n",
    "      \n",
    "        with urllib.request.urlopen(url_str) as url:\n",
    "            temp = pd.read_json(url.read().decode())\n",
    "        data.append(temp)\n",
    "    data = pd.concat(data)\n",
    "    return data\n",
    "\n",
    "\n",
    "def timeframe_inmet(data):\n",
    "    \"\"\"Takes pandas-df, adds timestamp as index (hour). \n",
    "    Returns whole data frame or only the temperature column \"\"\"\n",
    "    data['timestamp'] = pd.to_datetime(data['DT_MEDICAO']) + pd.to_timedelta(data['HR_MEDICAO'] // 100, unit='h')\n",
    "    data = data.set_index('timestamp')\n",
    "    data = data.asfreq('h')\n",
    "    \n",
    "    df_temp = data[['TEM_INS']]\n",
    "    df_wdir = data[['VEN_DIR']]\n",
    "    df_wspeed = data[['VEN_VEL']]\n",
    "    return data, df_temp\n",
    "\n",
    "\n",
    "def inmet_TEMP_into_TSM_format(df):\n",
    "    \"\"\"Takes a temperature df and transforms it into HAKOM data format.\n",
    "    Returns HAKOM data format, ready to load into DB \"\"\"\n",
    "    df = hakom.pandas_interop.create_timestamp_colum_from_index(df)\n",
    "    df['flag'] = 9\n",
    "    one_hour_interval = hakom.types.Interval(hakom.types.Intervals.Hour)\n",
    "    unit_label = '°C'\n",
    "    tsdc = hakom.pandas_interop.to_hakom_tsdata_collection(\n",
    "        df.dropna(),\n",
    "        interval=one_hour_interval,\n",
    "        unit=unit_label,\n",
    "        dt_flag_value_order=[2,1,3]\n",
    "    )\n",
    "    return tsdc"
   ]
  },
  {
   "cell_type": "markdown",
   "metadata": {},
   "source": [
    "## Go for the loop"
   ]
  },
  {
   "cell_type": "code",
   "execution_count": 30,
   "metadata": {},
   "outputs": [
    {
     "name": "stdout",
     "output_type": "stream",
     "text": [
      "https://apitempo.inmet.gov.br/estacao/2018-01-01/2018-12-31/A521\n",
      "https://apitempo.inmet.gov.br/estacao/2019-01-01/2019-12-31/A521\n",
      "https://apitempo.inmet.gov.br/estacao/2020-01-01/2020-12-31/A521\n",
      "https://apitempo.inmet.gov.br/estacao/2021-01-01/2021-12-31/A521\n",
      "https://apitempo.inmet.gov.br/estacao/2022-01-01/2022-12-31/A521\n",
      "https://apitempo.inmet.gov.br/estacao/2018-01-01/2018-12-31/A707\n",
      "https://apitempo.inmet.gov.br/estacao/2019-01-01/2019-12-31/A707\n",
      "https://apitempo.inmet.gov.br/estacao/2020-01-01/2020-12-31/A707\n",
      "https://apitempo.inmet.gov.br/estacao/2021-01-01/2021-12-31/A707\n",
      "https://apitempo.inmet.gov.br/estacao/2022-01-01/2022-12-31/A707\n",
      "https://apitempo.inmet.gov.br/estacao/2018-01-01/2018-12-31/A652\n",
      "https://apitempo.inmet.gov.br/estacao/2019-01-01/2019-12-31/A652\n",
      "https://apitempo.inmet.gov.br/estacao/2020-01-01/2020-12-31/A652\n",
      "https://apitempo.inmet.gov.br/estacao/2021-01-01/2021-12-31/A652\n",
      "https://apitempo.inmet.gov.br/estacao/2022-01-01/2022-12-31/A652\n",
      "https://apitempo.inmet.gov.br/estacao/2018-01-01/2018-12-31/A002\n",
      "https://apitempo.inmet.gov.br/estacao/2019-01-01/2019-12-31/A002\n",
      "https://apitempo.inmet.gov.br/estacao/2020-01-01/2020-12-31/A002\n",
      "https://apitempo.inmet.gov.br/estacao/2021-01-01/2021-12-31/A002\n",
      "https://apitempo.inmet.gov.br/estacao/2022-01-01/2022-12-31/A002\n",
      "https://apitempo.inmet.gov.br/estacao/2018-01-01/2018-12-31/A747\n",
      "https://apitempo.inmet.gov.br/estacao/2019-01-01/2019-12-31/A747\n",
      "https://apitempo.inmet.gov.br/estacao/2020-01-01/2020-12-31/A747\n",
      "https://apitempo.inmet.gov.br/estacao/2021-01-01/2021-12-31/A747\n",
      "https://apitempo.inmet.gov.br/estacao/2022-01-01/2022-12-31/A747\n",
      "https://apitempo.inmet.gov.br/estacao/2018-01-01/2018-12-31/A612\n",
      "https://apitempo.inmet.gov.br/estacao/2019-01-01/2019-12-31/A612\n",
      "https://apitempo.inmet.gov.br/estacao/2020-01-01/2020-12-31/A612\n",
      "https://apitempo.inmet.gov.br/estacao/2021-01-01/2021-12-31/A612\n",
      "https://apitempo.inmet.gov.br/estacao/2022-01-01/2022-12-31/A612\n"
     ]
    },
    {
     "ename": "UndefinedError",
     "evalue": "<!DOCTYPE html PUBLIC \"-//W3C//DTD XHTML 1.0 Strict//EN\" \"http://www.w3.org/TR/xhtml1/DTD/xhtml1-strict.dtd\">\r\n<html xmlns=\"http://www.w3.org/1999/xhtml\">\r\n<head>\r\n<meta http-equiv=\"Content-Type\" content=\"text/html; charset=iso-8859-1\"/>\r\n<title>502 - Web server received an invalid response while acting as a gateway or proxy server.</title>\r\n<style type=\"text/css\">\r\n<!--\r\nbody{margin:0;font-size:.7em;font-family:Verdana, Arial, Helvetica, sans-serif;background:#EEEEEE;}\r\nfieldset{padding:0 15px 10px 15px;} \r\nh1{font-size:2.4em;margin:0;color:#FFF;}\r\nh2{font-size:1.7em;margin:0;color:#CC0000;} \r\nh3{font-size:1.2em;margin:10px 0 0 0;color:#000000;} \r\n#header{width:96%;margin:0 0 0 0;padding:6px 2% 6px 2%;font-family:\"trebuchet MS\", Verdana, sans-serif;color:#FFF;\r\nbackground-color:#555555;}\r\n#content{margin:0 0 0 2%;position:relative;}\r\n.content-container{background:#FFF;width:96%;margin-top:8px;padding:10px;position:relative;}\r\n-->\r\n</style>\r\n</head>\r\n<body>\r\n<div id=\"header\"><h1>Server Error</h1></div>\r\n<div id=\"content\">\r\n <div class=\"content-container\"><fieldset>\r\n  <h2>502 - Web server received an invalid response while acting as a gateway or proxy server.</h2>\r\n  <h3>There is a problem with the page you are looking for, and it cannot be displayed. When the Web server (while acting as a gateway or proxy) contacted the upstream content server, it received an invalid response from the content server.</h3>\r\n </fieldset></div>\r\n</div>\r\n</body>\r\n</html>\r\n",
     "output_type": "error",
     "traceback": [
      "\u001b[1;31m---------------------------------------------------------------------------\u001b[0m",
      "\u001b[1;31mUndefinedError\u001b[0m                            Traceback (most recent call last)",
      "\u001b[1;32mc:\\Users\\Aeneas\\Documents\\GIT\\PyProjects\\Parser_into_TSM_v3.ipynb Cell 8'\u001b[0m in \u001b[0;36m<cell line: 11>\u001b[1;34m()\u001b[0m\n\u001b[0;32m     <a href='vscode-notebook-cell:/c%3A/Users/Aeneas/Documents/GIT/PyProjects/Parser_into_TSM_v3.ipynb#ch0000007?line=12'>13</a>\u001b[0m _,b \u001b[39m=\u001b[39m timeframe_inmet(a)\n\u001b[0;32m     <a href='vscode-notebook-cell:/c%3A/Users/Aeneas/Documents/GIT/PyProjects/Parser_into_TSM_v3.ipynb#ch0000007?line=13'>14</a>\u001b[0m c \u001b[39m=\u001b[39m inmet_TEMP_into_TSM_format(b)\n\u001b[1;32m---> <a href='vscode-notebook-cell:/c%3A/Users/Aeneas/Documents/GIT/PyProjects/Parser_into_TSM_v3.ipynb#ch0000007?line=15'>16</a>\u001b[0m hakom\u001b[39m.\u001b[39;49mrepositories\u001b[39m.\u001b[39;49mtimeseries\u001b[39m.\u001b[39;49mdata\u001b[39m.\u001b[39;49msave(ID, c)\n",
      "File \u001b[1;32mc:\\Users\\Aeneas\\Anaconda3\\envs\\test-environment\\lib\\site-packages\\hakom\\repositories\\timeseries\\data\\__init__.py:395\u001b[0m, in \u001b[0;36msave\u001b[1;34m(timeseries, data, query_params, format_options, service_config, request_id)\u001b[0m\n\u001b[0;32m    <a href='file:///c%3A/Users/Aeneas/Anaconda3/envs/test-environment/lib/site-packages/hakom/repositories/timeseries/data/__init__.py?line=392'>393</a>\u001b[0m checkError \u001b[39m=\u001b[39m _errorhandling\u001b[39m.\u001b[39merror_to_exception(errors)\n\u001b[0;32m    <a href='file:///c%3A/Users/Aeneas/Anaconda3/envs/test-environment/lib/site-packages/hakom/repositories/timeseries/data/__init__.py?line=393'>394</a>\u001b[0m \u001b[39mif\u001b[39;00m checkError:\n\u001b[1;32m--> <a href='file:///c%3A/Users/Aeneas/Anaconda3/envs/test-environment/lib/site-packages/hakom/repositories/timeseries/data/__init__.py?line=394'>395</a>\u001b[0m     \u001b[39mraise\u001b[39;00m checkError\n\u001b[0;32m    <a href='file:///c%3A/Users/Aeneas/Anaconda3/envs/test-environment/lib/site-packages/hakom/repositories/timeseries/data/__init__.py?line=396'>397</a>\u001b[0m \u001b[39mif\u001b[39;00m r_id \u001b[39mis\u001b[39;00m \u001b[39mnot\u001b[39;00m \u001b[39mNone\u001b[39;00m:\n\u001b[0;32m    <a href='file:///c%3A/Users/Aeneas/Anaconda3/envs/test-environment/lib/site-packages/hakom/repositories/timeseries/data/__init__.py?line=397'>398</a>\u001b[0m     \u001b[39mreturn\u001b[39;00m result, r_id\n",
      "\u001b[1;31mUndefinedError\u001b[0m: <!DOCTYPE html PUBLIC \"-//W3C//DTD XHTML 1.0 Strict//EN\" \"http://www.w3.org/TR/xhtml1/DTD/xhtml1-strict.dtd\">\r\n<html xmlns=\"http://www.w3.org/1999/xhtml\">\r\n<head>\r\n<meta http-equiv=\"Content-Type\" content=\"text/html; charset=iso-8859-1\"/>\r\n<title>502 - Web server received an invalid response while acting as a gateway or proxy server.</title>\r\n<style type=\"text/css\">\r\n<!--\r\nbody{margin:0;font-size:.7em;font-family:Verdana, Arial, Helvetica, sans-serif;background:#EEEEEE;}\r\nfieldset{padding:0 15px 10px 15px;} \r\nh1{font-size:2.4em;margin:0;color:#FFF;}\r\nh2{font-size:1.7em;margin:0;color:#CC0000;} \r\nh3{font-size:1.2em;margin:10px 0 0 0;color:#000000;} \r\n#header{width:96%;margin:0 0 0 0;padding:6px 2% 6px 2%;font-family:\"trebuchet MS\", Verdana, sans-serif;color:#FFF;\r\nbackground-color:#555555;}\r\n#content{margin:0 0 0 2%;position:relative;}\r\n.content-container{background:#FFF;width:96%;margin-top:8px;padding:10px;position:relative;}\r\n-->\r\n</style>\r\n</head>\r\n<body>\r\n<div id=\"header\"><h1>Server Error</h1></div>\r\n<div id=\"content\">\r\n <div class=\"content-container\"><fieldset>\r\n  <h2>502 - Web server received an invalid response while acting as a gateway or proxy server.</h2>\r\n  <h3>There is a problem with the page you are looking for, and it cannot be displayed. When the Web server (while acting as a gateway or proxy) contacted the upstream content server, it received an invalid response from the content server.</h3>\r\n </fieldset></div>\r\n</div>\r\n</body>\r\n</html>\r\n"
     ]
    }
   ],
   "source": [
    "# Define stations\n",
    "station_str = ['A521', 'A707', 'A652','A002', 'A747', 'A612']\n",
    "#station_str = ['A707']\n",
    "\n",
    "# Define TSM TS ID's\n",
    "TSM_IDs = ['2500', '2516', '2514', '2513', '2517', '2515']\n",
    "#TSM_IDs = [2516]\n",
    "\n",
    "zib = zip(station_str, TSM_IDs)\n",
    "\n",
    "for (station, ID) in zib:\n",
    "    a = parse_inmet(station)\n",
    "    _,b = timeframe_inmet(a)\n",
    "    c = inmet_TEMP_into_TSM_format(b)\n",
    "    \n",
    "    hakom.repositories.timeseries.data.save(ID, c)\n",
    "\n",
    "\n"
   ]
  },
  {
   "cell_type": "code",
   "execution_count": 23,
   "metadata": {},
   "outputs": [
    {
     "data": {
      "text/plain": [
       "range(0, 1)"
      ]
     },
     "execution_count": 23,
     "metadata": {},
     "output_type": "execute_result"
    }
   ],
   "source": []
  }
 ],
 "metadata": {
  "interpreter": {
   "hash": "1824e84b8ac6b85d1913a2956db397320de8d4a1ee39a1f1d1ad7d271a83e50e"
  },
  "kernelspec": {
   "display_name": "Python 3.9.7 ('test-environment')",
   "language": "python",
   "name": "python3"
  },
  "language_info": {
   "codemirror_mode": {
    "name": "ipython",
    "version": 3
   },
   "file_extension": ".py",
   "mimetype": "text/x-python",
   "name": "python",
   "nbconvert_exporter": "python",
   "pygments_lexer": "ipython3",
   "version": "3.9.7"
  },
  "orig_nbformat": 4
 },
 "nbformat": 4,
 "nbformat_minor": 2
}
